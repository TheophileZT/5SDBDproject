{
 "cells": [
  {
   "cell_type": "markdown",
   "metadata": {},
   "source": [
    "## CNN pour tout station"
   ]
  },
  {
   "cell_type": "code",
   "execution_count": 14,
   "metadata": {},
   "outputs": [],
   "source": [
    "import pandas as pd\n",
    "import numpy as np\n",
    "from sklearn.model_selection import train_test_split\n",
    "from sklearn.preprocessing import MinMaxScaler\n",
    "from sklearn.metrics import  mean_absolute_error, mean_squared_error, r2_score\n",
    "from tensorflow.keras import layers ,optimizers,models,regularizers\n",
    "import matplotlib.pyplot as plt\n",
    "from sklearn.discriminant_analysis import StandardScaler\n",
    "import matplotlib.pyplot as plt\n",
    "import seaborn as sns\n",
    "from codecarbon import EmissionsTracker\n",
    "import logging"
   ]
  },
  {
   "cell_type": "markdown",
   "metadata": {},
   "source": [
    "code carbon"
   ]
  },
  {
   "cell_type": "code",
   "execution_count": 18,
   "metadata": {},
   "outputs": [
    {
     "name": "stderr",
     "output_type": "stream",
     "text": [
      "[codecarbon WARNING @ 16:32:29] Multiple instances of codecarbon are allowed to run at the same time.\n",
      "[codecarbon INFO @ 16:32:29] [setup] RAM Tracking...\n",
      "[codecarbon INFO @ 16:32:29] [setup] CPU Tracking...\n",
      "[codecarbon WARNING @ 16:32:29] No CPU tracking mode found. Falling back on CPU constant mode. \n",
      " Windows OS detected: Please install Intel Power Gadget to measure CPU\n",
      "\n",
      "[codecarbon INFO @ 16:32:31] CPU Model on constant consumption mode: Intel(R) Core(TM) i7-8565U CPU @ 1.80GHz\n",
      "[codecarbon INFO @ 16:32:31] [setup] GPU Tracking...\n",
      "[codecarbon INFO @ 16:32:31] No GPU found.\n",
      "[codecarbon INFO @ 16:32:31] >>> Tracker's metadata:\n",
      "[codecarbon INFO @ 16:32:31]   Platform system: Windows-10-10.0.22621-SP0\n",
      "[codecarbon INFO @ 16:32:31]   Python version: 3.8.5\n",
      "[codecarbon INFO @ 16:32:31]   CodeCarbon version: 2.8.3\n",
      "[codecarbon INFO @ 16:32:31]   Available RAM : 15.852 GB\n",
      "[codecarbon INFO @ 16:32:31]   CPU count: 8\n",
      "[codecarbon INFO @ 16:32:31]   CPU model: Intel(R) Core(TM) i7-8565U CPU @ 1.80GHz\n",
      "[codecarbon INFO @ 16:32:31]   GPU count: None\n",
      "[codecarbon INFO @ 16:32:31]   GPU model: None\n",
      "[codecarbon INFO @ 16:32:32] Saving emissions data to file d:\\CODE\\code_python\\integre\\cnn\\5SDBDproject\\emissions\\model_cnn_window_glissant.csv\n"
     ]
    }
   ],
   "source": [
    "tracker = EmissionsTracker(\n",
    "    project_name=\"cnn_window_glissant\",\n",
    "    log_level=logging.INFO,\n",
    "    output_file=\"model_cnn_window_glissant.csv\",\n",
    "    output_dir='./emissions/',\n",
    "    save_to_file=True,\n",
    "    measure_power_secs=5,\n",
    "    allow_multiple_runs=True \n",
    ")"
   ]
  },
  {
   "cell_type": "code",
   "execution_count": 17,
   "metadata": {},
   "outputs": [
    {
     "name": "stderr",
     "output_type": "stream",
     "text": [
      "[codecarbon WARNING @ 16:29:12] Multiple instances of codecarbon are allowed to run at the same time.\n",
      "[codecarbon INFO @ 16:29:12] [setup] RAM Tracking...\n",
      "[codecarbon INFO @ 16:29:12] [setup] CPU Tracking...\n",
      "[codecarbon WARNING @ 16:29:12] No CPU tracking mode found. Falling back on CPU constant mode. \n",
      " Windows OS detected: Please install Intel Power Gadget to measure CPU\n",
      "\n",
      "[codecarbon INFO @ 16:29:14] CPU Model on constant consumption mode: Intel(R) Core(TM) i7-8565U CPU @ 1.80GHz\n",
      "[codecarbon INFO @ 16:29:14] [setup] GPU Tracking...\n",
      "[codecarbon INFO @ 16:29:14] No GPU found.\n",
      "[codecarbon INFO @ 16:29:14] >>> Tracker's metadata:\n",
      "[codecarbon INFO @ 16:29:14]   Platform system: Windows-10-10.0.22621-SP0\n",
      "[codecarbon INFO @ 16:29:14]   Python version: 3.8.5\n",
      "[codecarbon INFO @ 16:29:14]   CodeCarbon version: 2.8.3\n",
      "[codecarbon INFO @ 16:29:14]   Available RAM : 15.852 GB\n",
      "[codecarbon INFO @ 16:29:14]   CPU count: 8\n",
      "[codecarbon INFO @ 16:29:14]   CPU model: Intel(R) Core(TM) i7-8565U CPU @ 1.80GHz\n",
      "[codecarbon INFO @ 16:29:14]   GPU count: None\n",
      "[codecarbon INFO @ 16:29:14]   GPU model: None\n",
      "[codecarbon INFO @ 16:29:15] Saving emissions data to file d:\\CODE\\code_python\\integre\\cnn\\5SDBDproject\\emissions\\model_cnn_window_glissant.csv\n"
     ]
    }
   ],
   "source": [
    "file_path = 'merged_all_bikes_weather_events.csv'\n",
    "data = pd.read_csv(file_path)\n",
    "data['timestamp'] = pd.to_datetime(data['timestamp']).astype('int64') \n",
    "data['day_of_week'] = pd.to_datetime(data['timestamp']).dt.dayofweek\n",
    "data['is_weekend'] = data['day_of_week'].apply(lambda x: 1 if x >= 5 else 0)\n",
    "data=data.sort_values('timestamp')\n",
    "print(data.columns.to_list())\n",
    "feature_to_normaliser=['bike_stands','available_bike_stands', 'visibility_distance', 'current_temperature', 'feels_like_temperature', 'wind_speed', 'counter_events']\n",
    "other_features = [col for col in data.columns if col not in feature_to_normaliser]\n",
    "new_column_order=feature_to_normaliser+other_features\n",
    "data=data[new_column_order]\n",
    "print(data.columns.to_list())\n",
    "num_features_to_normalize=len(feature_to_normaliser)"
   ]
  },
  {
   "cell_type": "markdown",
   "metadata": {},
   "source": [
    "Normaliser"
   ]
  },
  {
   "cell_type": "code",
   "execution_count": 19,
   "metadata": {},
   "outputs": [
    {
     "data": {
      "text/html": [
       "<div>\n",
       "<style scoped>\n",
       "    .dataframe tbody tr th:only-of-type {\n",
       "        vertical-align: middle;\n",
       "    }\n",
       "\n",
       "    .dataframe tbody tr th {\n",
       "        vertical-align: top;\n",
       "    }\n",
       "\n",
       "    .dataframe thead th {\n",
       "        text-align: right;\n",
       "    }\n",
       "</style>\n",
       "<table border=\"1\" class=\"dataframe\">\n",
       "  <thead>\n",
       "    <tr style=\"text-align: right;\">\n",
       "      <th></th>\n",
       "      <th>bike_stands</th>\n",
       "      <th>available_bike_stands</th>\n",
       "      <th>visibility_distance</th>\n",
       "      <th>current_temperature</th>\n",
       "      <th>feels_like_temperature</th>\n",
       "      <th>wind_speed</th>\n",
       "      <th>counter_events</th>\n",
       "      <th>timestamp</th>\n",
       "      <th>number</th>\n",
       "      <th>status</th>\n",
       "      <th>available_bikes</th>\n",
       "      <th>is_rainy</th>\n",
       "      <th>day_of_week</th>\n",
       "      <th>is_weekend</th>\n",
       "    </tr>\n",
       "  </thead>\n",
       "  <tbody>\n",
       "    <tr>\n",
       "      <th>0</th>\n",
       "      <td>20</td>\n",
       "      <td>7</td>\n",
       "      <td>10000.0</td>\n",
       "      <td>6.99</td>\n",
       "      <td>6.17</td>\n",
       "      <td>5.54</td>\n",
       "      <td>0</td>\n",
       "      <td>1733940000000000000</td>\n",
       "      <td>259</td>\n",
       "      <td>1</td>\n",
       "      <td>13</td>\n",
       "      <td>0.0</td>\n",
       "      <td>2</td>\n",
       "      <td>0</td>\n",
       "    </tr>\n",
       "    <tr>\n",
       "      <th>870608</th>\n",
       "      <td>16</td>\n",
       "      <td>11</td>\n",
       "      <td>10000.0</td>\n",
       "      <td>6.99</td>\n",
       "      <td>6.17</td>\n",
       "      <td>5.54</td>\n",
       "      <td>0</td>\n",
       "      <td>1733940000000000000</td>\n",
       "      <td>257</td>\n",
       "      <td>1</td>\n",
       "      <td>5</td>\n",
       "      <td>0.0</td>\n",
       "      <td>2</td>\n",
       "      <td>0</td>\n",
       "    </tr>\n",
       "    <tr>\n",
       "      <th>869769</th>\n",
       "      <td>13</td>\n",
       "      <td>2</td>\n",
       "      <td>10000.0</td>\n",
       "      <td>6.99</td>\n",
       "      <td>6.17</td>\n",
       "      <td>5.54</td>\n",
       "      <td>0</td>\n",
       "      <td>1733940000000000000</td>\n",
       "      <td>309</td>\n",
       "      <td>1</td>\n",
       "      <td>10</td>\n",
       "      <td>0.0</td>\n",
       "      <td>2</td>\n",
       "      <td>0</td>\n",
       "    </tr>\n",
       "    <tr>\n",
       "      <th>869768</th>\n",
       "      <td>17</td>\n",
       "      <td>16</td>\n",
       "      <td>10000.0</td>\n",
       "      <td>6.99</td>\n",
       "      <td>6.17</td>\n",
       "      <td>5.54</td>\n",
       "      <td>0</td>\n",
       "      <td>1733940000000000000</td>\n",
       "      <td>207</td>\n",
       "      <td>1</td>\n",
       "      <td>1</td>\n",
       "      <td>0.0</td>\n",
       "      <td>2</td>\n",
       "      <td>0</td>\n",
       "    </tr>\n",
       "    <tr>\n",
       "      <th>868965</th>\n",
       "      <td>22</td>\n",
       "      <td>5</td>\n",
       "      <td>10000.0</td>\n",
       "      <td>6.99</td>\n",
       "      <td>6.17</td>\n",
       "      <td>5.54</td>\n",
       "      <td>0</td>\n",
       "      <td>1733940000000000000</td>\n",
       "      <td>126</td>\n",
       "      <td>1</td>\n",
       "      <td>17</td>\n",
       "      <td>0.0</td>\n",
       "      <td>2</td>\n",
       "      <td>0</td>\n",
       "    </tr>\n",
       "  </tbody>\n",
       "</table>\n",
       "</div>"
      ],
      "text/plain": [
       "        bike_stands  available_bike_stands  visibility_distance  \\\n",
       "0                20                      7              10000.0   \n",
       "870608           16                     11              10000.0   \n",
       "869769           13                      2              10000.0   \n",
       "869768           17                     16              10000.0   \n",
       "868965           22                      5              10000.0   \n",
       "\n",
       "        current_temperature  feels_like_temperature  wind_speed  \\\n",
       "0                      6.99                    6.17        5.54   \n",
       "870608                 6.99                    6.17        5.54   \n",
       "869769                 6.99                    6.17        5.54   \n",
       "869768                 6.99                    6.17        5.54   \n",
       "868965                 6.99                    6.17        5.54   \n",
       "\n",
       "        counter_events            timestamp  number  status  available_bikes  \\\n",
       "0                    0  1733940000000000000     259       1               13   \n",
       "870608               0  1733940000000000000     257       1                5   \n",
       "869769               0  1733940000000000000     309       1               10   \n",
       "869768               0  1733940000000000000     207       1                1   \n",
       "868965               0  1733940000000000000     126       1               17   \n",
       "\n",
       "        is_rainy  day_of_week  is_weekend  \n",
       "0            0.0            2           0  \n",
       "870608       0.0            2           0  \n",
       "869769       0.0            2           0  \n",
       "869768       0.0            2           0  \n",
       "868965       0.0            2           0  "
      ]
     },
     "execution_count": 19,
     "metadata": {},
     "output_type": "execute_result"
    }
   ],
   "source": [
    "### verifier ordonne\n",
    "data[:5]"
   ]
  },
  {
   "cell_type": "code",
   "execution_count": 20,
   "metadata": {},
   "outputs": [
    {
     "name": "stdout",
     "output_type": "stream",
     "text": [
      "\n",
      " x train shape: (950319, 13)\n",
      "\n",
      " x test shape: (237580, 13)\n",
      "\n",
      " y train shape: (950319,)\n",
      "\n",
      " y test shape: (237580,)\n"
     ]
    }
   ],
   "source": [
    "X = data.drop(columns=['available_bikes']).values  \n",
    "y = data['available_bikes'].values \n",
    "## test et train\n",
    "split_index = int(0.8 * len(X))  \n",
    "X_train_raw, X_test_raw = X[:split_index], X[split_index:]\n",
    "y_train_raw, y_test_raw = y[:split_index], y[split_index:]\n",
    "scaler_X = StandardScaler()\n",
    "X_train_to_normalize = X_train_raw[:, :num_features_to_normalize]\n",
    "X_train_not_to_normalize = X_train_raw[:, num_features_to_normalize:]\n",
    "X_train_feature_normalized = scaler_X.fit_transform(X_train_to_normalize)\n",
    "\n",
    "X_test_to_normalize = X_test_raw[:, :num_features_to_normalize]\n",
    "X_test_not_to_normalize = X_test_raw[:, num_features_to_normalize:]\n",
    "X_test_to_feature_normalized = scaler_X.transform(X_test_to_normalize)\n",
    "\n",
    "X_train = np.hstack([X_train_feature_normalized, X_train_not_to_normalize])\n",
    "X_test = np.hstack([X_test_to_feature_normalized, X_test_not_to_normalize])\n",
    "\n",
    "scaler_y = StandardScaler()\n",
    "y_train = scaler_y.fit_transform(y_train_raw.reshape(-1, 1)).flatten()\n",
    "y_test = scaler_y.transform(y_test_raw.reshape(-1, 1)).flatten()\n",
    "print(\"\\n x train shape:\",X_train.shape)\n",
    "print(\"\\n x test shape:\",X_test.shape)\n",
    "print(\"\\n y train shape:\",y_train.shape)\n",
    "print(\"\\n y test shape:\",y_test.shape)"
   ]
  },
  {
   "cell_type": "markdown",
   "metadata": {},
   "source": [
    "window glissant"
   ]
  },
  {
   "cell_type": "code",
   "execution_count": 21,
   "metadata": {},
   "outputs": [
    {
     "name": "stdout",
     "output_type": "stream",
     "text": [
      "8\n",
      "[259. 257. 309. ... 265.  65. 396.]\n",
      "382\n"
     ]
    }
   ],
   "source": [
    "station_column_index = list(data.drop(columns='available_bikes').columns).index('number')\n",
    "\n",
    "print(station_column_index)\n",
    "station_ids = X[:, station_column_index]\n",
    "print(station_ids)\n",
    "unique_stations = np.unique(station_ids)\n",
    "print(len(unique_stations))"
   ]
  },
  {
   "cell_type": "code",
   "execution_count": 22,
   "metadata": {},
   "outputs": [
    {
     "name": "stdout",
     "output_type": "stream",
     "text": [
      "\n",
      "train data:\n",
      "X_train_seq shape: (948791, 4, 14)\n",
      "y_train_seq shape: (948791,)\n",
      "station_train_seq shape: (948791,)\n",
      "\n",
      "test data:\n",
      "X_test_seq shape: (236056, 4, 14)\n",
      "y_test_seq shape: (236056,)\n",
      "station_test_seq shape: (236056,)\n"
     ]
    }
   ],
   "source": [
    "def create_sliding_window_grouped(X, y, station_ids, time_steps):\n",
    "    X_seq_all, y_seq_all, station_seq_all = [], [], []\n",
    "    unique_stations = np.unique(station_ids)\n",
    "\n",
    "    for station in unique_stations:\n",
    "        station_indices = np.where(station_ids == station)[0]\n",
    "        X_station = X[station_indices]\n",
    "        y_station = y[station_indices]\n",
    "        for i in range(len(X_station) - time_steps):\n",
    "            X_window = np.hstack([X_station[i:i + time_steps], y_station[i:i + time_steps].reshape(-1, 1)])\n",
    "            X_seq_all.append(X_window)\n",
    "            y_seq_all.append(y_station[i + time_steps])\n",
    "            station_seq_all.append(station)\n",
    "\n",
    "    return np.array(X_seq_all), np.array(y_seq_all), np.array(station_seq_all)\n",
    "time_steps=4\n",
    "X_train_seq, y_train_seq, station_train_seq = create_sliding_window_grouped(X_train, y_train, station_ids[:split_index], time_steps)\n",
    "X_test_seq, y_test_seq, station_test_seq = create_sliding_window_grouped(X_test, y_test, station_ids[split_index:], time_steps)\n",
    "\n",
    "print(\"\\ntrain data:\")\n",
    "print(\"X_train_seq shape:\", X_train_seq.shape)\n",
    "print(\"y_train_seq shape:\", y_train_seq.shape)\n",
    "print(\"station_train_seq shape:\", station_train_seq.shape)\n",
    "\n",
    "print(\"\\ntest data:\")\n",
    "print(\"X_test_seq shape:\", X_test_seq.shape)\n",
    "print(\"y_test_seq shape:\", y_test_seq.shape)\n",
    "print(\"station_test_seq shape:\", station_test_seq.shape)"
   ]
  },
  {
   "cell_type": "markdown",
   "metadata": {},
   "source": [
    "model cnn"
   ]
  },
  {
   "cell_type": "markdown",
   "metadata": {},
   "source": [
    "verifier data tranning"
   ]
  },
  {
   "cell_type": "code",
   "execution_count": 23,
   "metadata": {},
   "outputs": [
    {
     "name": "stdout",
     "output_type": "stream",
     "text": [
      "['bike_stands', 'available_bike_stands', 'visibility_distance', 'current_temperature', 'feels_like_temperature', 'wind_speed', 'counter_events', 'timestamp', 'number', 'status', 'is_rainy', 'day_of_week', 'is_weekend']\n",
      "[[ 1.72191139e-01 -1.03536827e+00  6.01042690e-01 -5.99491337e-02\n",
      "   1.07119318e-01 -6.82358561e-01  2.39245755e+00  1.73394090e+18\n",
      "   1.00000000e+00  1.00000000e+00  0.00000000e+00  2.00000000e+00\n",
      "   0.00000000e+00  1.72958431e+00]\n",
      " [ 1.72191139e-01 -8.77475701e-01  6.01042690e-01 -1.34252842e-01\n",
      "  -1.50572189e-02 -6.29059375e-01  2.39245755e+00  1.73394180e+18\n",
      "   1.00000000e+00  1.00000000e+00  0.00000000e+00  2.00000000e+00\n",
      "   0.00000000e+00  1.31811055e+00]\n",
      " [ 1.72191139e-01 -5.61690556e-01  6.01042690e-01 -2.08556550e-01\n",
      "  -1.37233756e-01 -5.75760190e-01  2.39245755e+00  1.73394270e+18\n",
      "   1.00000000e+00  1.00000000e+00  0.00000000e+00  2.00000000e+00\n",
      "   0.00000000e+00  9.06636786e-01]\n",
      " [ 1.72191139e-01 -2.45905412e-01  6.01042690e-01 -2.82860258e-01\n",
      "  -2.59410293e-01 -5.22461004e-01  2.39245755e+00  1.73394360e+18\n",
      "   1.00000000e+00  1.00000000e+00  0.00000000e+00  2.00000000e+00\n",
      "   0.00000000e+00  4.95163026e-01]]\n",
      "0.289426146263466\n",
      "1.0\n"
     ]
    }
   ],
   "source": [
    "print(data.drop(columns='available_bikes').columns.to_list())\n",
    "print(X_train_seq[1])\n",
    "print(y_train_seq[1])\n",
    "print(station_train_seq[1])"
   ]
  },
  {
   "cell_type": "code",
   "execution_count": 24,
   "metadata": {},
   "outputs": [
    {
     "name": "stdout",
     "output_type": "stream",
     "text": [
      "Model: \"sequential_1\"\n",
      "_________________________________________________________________\n",
      " Layer (type)                Output Shape              Param #   \n",
      "=================================================================\n",
      " conv1d_1 (Conv1D)           (None, 3, 16)             464       \n",
      "                                                                 \n",
      " batch_normalization_2 (Bat  (None, 3, 16)             64        \n",
      " chNormalization)                                                \n",
      "                                                                 \n",
      " max_pooling1d_1 (MaxPoolin  (None, 2, 16)             0         \n",
      " g1D)                                                            \n",
      "                                                                 \n",
      " dropout_2 (Dropout)         (None, 2, 16)             0         \n",
      "                                                                 \n",
      " flatten_1 (Flatten)         (None, 32)                0         \n",
      "                                                                 \n",
      " dense_2 (Dense)             (None, 32)                1056      \n",
      "                                                                 \n",
      " batch_normalization_3 (Bat  (None, 32)                128       \n",
      " chNormalization)                                                \n",
      "                                                                 \n",
      " dropout_3 (Dropout)         (None, 32)                0         \n",
      "                                                                 \n",
      " dense_3 (Dense)             (None, 1)                 33        \n",
      "                                                                 \n",
      "=================================================================\n",
      "Total params: 1745 (6.82 KB)\n",
      "Trainable params: 1649 (6.44 KB)\n",
      "Non-trainable params: 96 (384.00 Byte)\n",
      "_________________________________________________________________\n"
     ]
    }
   ],
   "source": [
    "model = models.Sequential([\n",
    "    layers.Conv1D(filters=16,  \n",
    "                  kernel_size=2, \n",
    "                  activation='relu', \n",
    "                  input_shape=(X_train_seq.shape[1], X_train_seq.shape[2]),\n",
    "                  kernel_regularizer=regularizers.l2(0.001)\n",
    "                  ),  \n",
    "    layers.BatchNormalization(),  \n",
    "    layers.MaxPooling1D(pool_size=2, strides=1),\n",
    "    layers.Dropout(0.15),\n",
    " \n",
    "    layers.Flatten(),\n",
    "    \n",
    "    layers.Dense(32, activation='relu'),\n",
    "    layers.BatchNormalization(),\n",
    "    layers.Dropout(0.1),\n",
    "    \n",
    "    layers.Dense(1, activation='linear')\n",
    "])\n",
    "model.compile(optimizer='adam', loss='mse', metrics=['mae'])\n",
    "model.summary()"
   ]
  },
  {
   "cell_type": "code",
   "execution_count": 25,
   "metadata": {},
   "outputs": [
    {
     "name": "stdout",
     "output_type": "stream",
     "text": [
      "\n",
      "train data:\n",
      "X_train_seq shape: (948791, 4, 14)\n",
      "y_train_seq shape: (948791,)\n",
      "\n",
      "val data:\n",
      "X_val shape: (94423, 4, 14)\n",
      "y_val shape: (94423,)\n",
      "\n",
      "test data:\n",
      "X_test_seq shape: (141633, 4, 14)\n",
      "y_test_seq shape: (141633,)\n"
     ]
    }
   ],
   "source": [
    "val_size = int(0.6 * len(X_test_seq))\n",
    "X_test_seq, X_val = X_test_seq[:val_size], X_test_seq[val_size:]\n",
    "y_test_seq, y_val = y_test_seq[:val_size], y_test_seq[val_size:]\n",
    "print(\"\\ntrain data:\")\n",
    "print(\"X_train_seq shape:\", X_train_seq.shape)\n",
    "print(\"y_train_seq shape:\", y_train_seq.shape)\n",
    "\n",
    "print(\"\\nval data:\")\n",
    "print(\"X_val shape:\", X_val.shape)\n",
    "print(\"y_val shape:\", y_val.shape)\n",
    "print(\"\\ntest data:\")\n",
    "print(\"X_test_seq shape:\", X_test_seq.shape)\n",
    "print(\"y_test_seq shape:\", y_test_seq.shape)"
   ]
  },
  {
   "cell_type": "code",
   "execution_count": 26,
   "metadata": {},
   "outputs": [
    {
     "name": "stdout",
     "output_type": "stream",
     "text": [
      "Training the model...\n",
      "Epoch 1/20\n",
      " 100/3707 [..............................] - ETA: 21s - loss: 3.1437 - mae: 1.3817"
     ]
    },
    {
     "name": "stderr",
     "output_type": "stream",
     "text": [
      "[codecarbon INFO @ 16:35:39] Energy consumed for RAM : 0.000008 kWh. RAM Power : 5.944325923919678 W\n"
     ]
    },
    {
     "name": "stdout",
     "output_type": "stream",
     "text": [
      " 108/3707 [..............................] - ETA: 21s - loss: 3.0790 - mae: 1.3711"
     ]
    },
    {
     "name": "stderr",
     "output_type": "stream",
     "text": [
      "[codecarbon INFO @ 16:35:39] Energy consumed for all CPUs : 0.000020 kWh. Total CPU Power : 14.0 W\n",
      "[codecarbon INFO @ 16:35:39] 0.000028 kWh of electricity used since the beginning.\n"
     ]
    },
    {
     "name": "stdout",
     "output_type": "stream",
     "text": [
      " 838/3707 [=====>........................] - ETA: 19s - loss: 1.6198 - mae: 1.0002"
     ]
    },
    {
     "name": "stderr",
     "output_type": "stream",
     "text": [
      "[codecarbon INFO @ 16:35:44] Energy consumed for RAM : 0.000017 kWh. RAM Power : 5.944325923919678 W\n",
      "[codecarbon INFO @ 16:35:44] Energy consumed for all CPUs : 0.000039 kWh. Total CPU Power : 14.0 W\n",
      "[codecarbon INFO @ 16:35:44] 0.000056 kWh of electricity used since the beginning.\n"
     ]
    },
    {
     "name": "stdout",
     "output_type": "stream",
     "text": [
      "1561/3707 [===========>..................] - ETA: 14s - loss: 1.4269 - mae: 0.9539"
     ]
    },
    {
     "name": "stderr",
     "output_type": "stream",
     "text": [
      "[codecarbon INFO @ 16:35:49] Energy consumed for RAM : 0.000025 kWh. RAM Power : 5.944325923919678 W\n",
      "[codecarbon INFO @ 16:35:49] Energy consumed for all CPUs : 0.000058 kWh. Total CPU Power : 14.0 W\n",
      "[codecarbon INFO @ 16:35:49] 0.000083 kWh of electricity used since the beginning.\n"
     ]
    },
    {
     "name": "stdout",
     "output_type": "stream",
     "text": [
      "2363/3707 [==================>...........] - ETA: 8s - loss: 1.2490 - mae: 0.8942"
     ]
    },
    {
     "name": "stderr",
     "output_type": "stream",
     "text": [
      "[codecarbon INFO @ 16:35:54] Energy consumed for RAM : 0.000033 kWh. RAM Power : 5.944325923919678 W\n",
      "[codecarbon INFO @ 16:35:54] Energy consumed for all CPUs : 0.000078 kWh. Total CPU Power : 14.0 W\n",
      "[codecarbon INFO @ 16:35:54] 0.000111 kWh of electricity used since the beginning.\n"
     ]
    },
    {
     "name": "stdout",
     "output_type": "stream",
     "text": [
      "3087/3707 [=======================>......] - ETA: 4s - loss: 1.1355 - mae: 0.8519"
     ]
    },
    {
     "name": "stderr",
     "output_type": "stream",
     "text": [
      "[codecarbon INFO @ 16:35:59] Energy consumed for RAM : 0.000041 kWh. RAM Power : 5.944325923919678 W\n",
      "[codecarbon INFO @ 16:35:59] Energy consumed for all CPUs : 0.000097 kWh. Total CPU Power : 14.0 W\n"
     ]
    },
    {
     "name": "stdout",
     "output_type": "stream",
     "text": [
      "3094/3707 [========================>.....] - ETA: 4s - loss: 1.1343 - mae: 0.8516"
     ]
    },
    {
     "name": "stderr",
     "output_type": "stream",
     "text": [
      "[codecarbon INFO @ 16:35:59] 0.000139 kWh of electricity used since the beginning.\n"
     ]
    },
    {
     "name": "stdout",
     "output_type": "stream",
     "text": [
      "3703/3707 [============================>.] - ETA: 0s - loss: 1.0440 - mae: 0.8174"
     ]
    },
    {
     "name": "stderr",
     "output_type": "stream",
     "text": [
      "[codecarbon INFO @ 16:36:04] Energy consumed for RAM : 0.000049 kWh. RAM Power : 5.944325923919678 W\n",
      "[codecarbon INFO @ 16:36:04] Energy consumed for all CPUs : 0.000117 kWh. Total CPU Power : 14.0 W\n",
      "[codecarbon INFO @ 16:36:04] 0.000166 kWh of electricity used since the beginning.\n"
     ]
    },
    {
     "name": "stdout",
     "output_type": "stream",
     "text": [
      "3707/3707 [==============================] - 30s 7ms/step - loss: 1.0468 - mae: 0.8182 - val_loss: 286.3533 - val_mae: 16.8993 - lr: 0.0010\n",
      "Epoch 2/20\n",
      " 745/3707 [=====>........................] - ETA: 18s - loss: 1.4334 - mae: 0.9427"
     ]
    },
    {
     "name": "stderr",
     "output_type": "stream",
     "text": [
      "[codecarbon INFO @ 16:36:09] Energy consumed for RAM : 0.000058 kWh. RAM Power : 5.944325923919678 W\n",
      "[codecarbon INFO @ 16:36:09] Energy consumed for all CPUs : 0.000136 kWh. Total CPU Power : 14.0 W\n",
      "[codecarbon INFO @ 16:36:09] 0.000194 kWh of electricity used since the beginning.\n"
     ]
    },
    {
     "name": "stdout",
     "output_type": "stream",
     "text": [
      "1469/3707 [==========>...................] - ETA: 14s - loss: 1.3570 - mae: 0.9300"
     ]
    },
    {
     "name": "stderr",
     "output_type": "stream",
     "text": [
      "[codecarbon INFO @ 16:36:14] Energy consumed for RAM : 0.000066 kWh. RAM Power : 5.944325923919678 W\n"
     ]
    },
    {
     "name": "stdout",
     "output_type": "stream",
     "text": [
      "1475/3707 [==========>...................] - ETA: 14s - loss: 1.3560 - mae: 0.9299"
     ]
    },
    {
     "name": "stderr",
     "output_type": "stream",
     "text": [
      "[codecarbon INFO @ 16:36:14] Energy consumed for all CPUs : 0.000156 kWh. Total CPU Power : 14.0 W\n",
      "[codecarbon INFO @ 16:36:14] 0.000222 kWh of electricity used since the beginning.\n",
      "[codecarbon INFO @ 16:36:14] 0.000310 g.CO2eq/s mean an estimation of 9.770522964782597 kg.CO2eq/year\n"
     ]
    },
    {
     "name": "stdout",
     "output_type": "stream",
     "text": [
      "1875/3707 [==============>...............] - ETA: 14s - loss: 1.2562 - mae: 0.8994"
     ]
    },
    {
     "name": "stderr",
     "output_type": "stream",
     "text": [
      "[codecarbon INFO @ 16:36:19] Energy consumed for RAM : 0.000074 kWh. RAM Power : 5.944325923919678 W\n"
     ]
    },
    {
     "name": "stdout",
     "output_type": "stream",
     "text": [
      "1877/3707 [==============>...............] - ETA: 14s - loss: 1.2552 - mae: 0.8989"
     ]
    },
    {
     "name": "stderr",
     "output_type": "stream",
     "text": [
      "[codecarbon INFO @ 16:36:19] Energy consumed for all CPUs : 0.000176 kWh. Total CPU Power : 14.0 W\n",
      "[codecarbon INFO @ 16:36:19] 0.000250 kWh of electricity used since the beginning.\n"
     ]
    },
    {
     "name": "stdout",
     "output_type": "stream",
     "text": [
      "2248/3707 [=================>............] - ETA: 12s - loss: 1.1937 - mae: 0.8778"
     ]
    },
    {
     "name": "stderr",
     "output_type": "stream",
     "text": [
      "[codecarbon INFO @ 16:36:24] Energy consumed for RAM : 0.000082 kWh. RAM Power : 5.944325923919678 W\n"
     ]
    },
    {
     "name": "stdout",
     "output_type": "stream",
     "text": [
      "2253/3707 [=================>............] - ETA: 12s - loss: 1.1950 - mae: 0.8783"
     ]
    },
    {
     "name": "stderr",
     "output_type": "stream",
     "text": [
      "[codecarbon INFO @ 16:36:24] Energy consumed for all CPUs : 0.000195 kWh. Total CPU Power : 14.0 W\n",
      "[codecarbon INFO @ 16:36:24] 0.000277 kWh of electricity used since the beginning.\n"
     ]
    },
    {
     "name": "stdout",
     "output_type": "stream",
     "text": [
      "2679/3707 [====================>.........] - ETA: 9s - loss: 1.1412 - mae: 0.8590"
     ]
    },
    {
     "name": "stderr",
     "output_type": "stream",
     "text": [
      "[codecarbon INFO @ 16:36:29] Energy consumed for RAM : 0.000091 kWh. RAM Power : 5.944325923919678 W\n",
      "[codecarbon INFO @ 16:36:29] Energy consumed for all CPUs : 0.000214 kWh. Total CPU Power : 14.0 W\n",
      "[codecarbon INFO @ 16:36:29] 0.000305 kWh of electricity used since the beginning.\n"
     ]
    },
    {
     "name": "stdout",
     "output_type": "stream",
     "text": [
      "3029/3707 [=======================>......] - ETA: 6s - loss: 1.0874 - mae: 0.8371"
     ]
    },
    {
     "name": "stderr",
     "output_type": "stream",
     "text": [
      "[codecarbon INFO @ 16:36:34] Energy consumed for RAM : 0.000099 kWh. RAM Power : 5.944325923919678 W\n"
     ]
    },
    {
     "name": "stdout",
     "output_type": "stream",
     "text": [
      "3034/3707 [=======================>......] - ETA: 6s - loss: 1.0868 - mae: 0.8369"
     ]
    },
    {
     "name": "stderr",
     "output_type": "stream",
     "text": [
      "[codecarbon INFO @ 16:36:34] Energy consumed for all CPUs : 0.000234 kWh. Total CPU Power : 14.0 W\n",
      "[codecarbon INFO @ 16:36:34] 0.000333 kWh of electricity used since the beginning.\n"
     ]
    },
    {
     "name": "stdout",
     "output_type": "stream",
     "text": [
      "3463/3707 [===========================>..] - ETA: 2s - loss: 1.0184 - mae: 0.8100"
     ]
    },
    {
     "name": "stderr",
     "output_type": "stream",
     "text": [
      "[codecarbon INFO @ 16:36:39] Energy consumed for RAM : 0.000107 kWh. RAM Power : 5.944325923919678 W\n",
      "[codecarbon INFO @ 16:36:39] Energy consumed for all CPUs : 0.000253 kWh. Total CPU Power : 14.0 W\n",
      "[codecarbon INFO @ 16:36:39] 0.000360 kWh of electricity used since the beginning.\n"
     ]
    },
    {
     "name": "stdout",
     "output_type": "stream",
     "text": [
      "3707/3707 [==============================] - 39s 10ms/step - loss: 0.9960 - mae: 0.8011 - val_loss: 290.6495 - val_mae: 17.0258 - lr: 0.0010\n",
      "Epoch 3/20\n",
      "  80/3707 [..............................] - ETA: 42s - loss: 2.1604 - mae: 1.1884"
     ]
    },
    {
     "name": "stderr",
     "output_type": "stream",
     "text": [
      "[codecarbon INFO @ 16:36:44] Energy consumed for RAM : 0.000115 kWh. RAM Power : 5.944325923919678 W\n",
      "[codecarbon INFO @ 16:36:44] Energy consumed for all CPUs : 0.000273 kWh. Total CPU Power : 14.0 W\n"
     ]
    },
    {
     "name": "stdout",
     "output_type": "stream",
     "text": [
      "  83/3707 [..............................] - ETA: 43s - loss: 2.1016 - mae: 1.1669"
     ]
    },
    {
     "name": "stderr",
     "output_type": "stream",
     "text": [
      "[codecarbon INFO @ 16:36:44] 0.000388 kWh of electricity used since the beginning.\n"
     ]
    },
    {
     "name": "stdout",
     "output_type": "stream",
     "text": [
      " 448/3707 [==>...........................] - ETA: 43s - loss: 1.6245 - mae: 1.0192"
     ]
    },
    {
     "name": "stderr",
     "output_type": "stream",
     "text": [
      "[codecarbon INFO @ 16:36:49] Energy consumed for RAM : 0.000124 kWh. RAM Power : 5.944325923919678 W\n"
     ]
    },
    {
     "name": "stdout",
     "output_type": "stream",
     "text": [
      " 450/3707 [==>...........................] - ETA: 44s - loss: 1.6231 - mae: 1.0191"
     ]
    },
    {
     "name": "stderr",
     "output_type": "stream",
     "text": [
      "[codecarbon INFO @ 16:36:49] Energy consumed for all CPUs : 0.000293 kWh. Total CPU Power : 14.0 W\n",
      "[codecarbon INFO @ 16:36:49] 0.000416 kWh of electricity used since the beginning.\n"
     ]
    },
    {
     "name": "stdout",
     "output_type": "stream",
     "text": [
      " 748/3707 [=====>........................] - ETA: 43s - loss: 1.4250 - mae: 0.9412"
     ]
    },
    {
     "name": "stderr",
     "output_type": "stream",
     "text": [
      "[codecarbon INFO @ 16:36:54] Energy consumed for RAM : 0.000132 kWh. RAM Power : 5.944325923919678 W\n",
      "[codecarbon INFO @ 16:36:54] Energy consumed for all CPUs : 0.000312 kWh. Total CPU Power : 14.0 W\n",
      "[codecarbon INFO @ 16:36:54] 0.000444 kWh of electricity used since the beginning.\n"
     ]
    },
    {
     "name": "stdout",
     "output_type": "stream",
     "text": [
      " 751/3707 [=====>........................] - ETA: 43s - loss: 1.4225 - mae: 0.9405"
     ]
    },
    {
     "name": "stderr",
     "output_type": "stream",
     "text": [
      "[codecarbon INFO @ 16:36:54] 0.000309 g.CO2eq/s mean an estimation of 9.743295250022785 kg.CO2eq/year\n"
     ]
    },
    {
     "name": "stdout",
     "output_type": "stream",
     "text": [
      "1079/3707 [=======>......................] - ETA: 39s - loss: 1.4294 - mae: 0.9497"
     ]
    },
    {
     "name": "stderr",
     "output_type": "stream",
     "text": [
      "[codecarbon INFO @ 16:36:59] Energy consumed for RAM : 0.000140 kWh. RAM Power : 5.944325923919678 W\n",
      "[codecarbon INFO @ 16:36:59] Energy consumed for all CPUs : 0.000331 kWh. Total CPU Power : 14.0 W\n",
      "[codecarbon INFO @ 16:36:59] 0.000471 kWh of electricity used since the beginning.\n"
     ]
    },
    {
     "name": "stdout",
     "output_type": "stream",
     "text": [
      "1341/3707 [=========>....................] - ETA: 37s - loss: 1.3593 - mae: 0.9311"
     ]
    },
    {
     "name": "stderr",
     "output_type": "stream",
     "text": [
      "[codecarbon INFO @ 16:37:04] Energy consumed for RAM : 0.000148 kWh. RAM Power : 5.944325923919678 W\n",
      "[codecarbon INFO @ 16:37:04] Energy consumed for all CPUs : 0.000351 kWh. Total CPU Power : 14.0 W\n",
      "[codecarbon INFO @ 16:37:04] 0.000499 kWh of electricity used since the beginning.\n"
     ]
    },
    {
     "name": "stdout",
     "output_type": "stream",
     "text": [
      "1684/3707 [============>.................] - ETA: 31s - loss: 1.2942 - mae: 0.9140"
     ]
    },
    {
     "name": "stderr",
     "output_type": "stream",
     "text": [
      "[codecarbon INFO @ 16:37:09] Energy consumed for RAM : 0.000156 kWh. RAM Power : 5.944325923919678 W\n"
     ]
    },
    {
     "name": "stdout",
     "output_type": "stream",
     "text": [
      "1689/3707 [============>.................] - ETA: 31s - loss: 1.2924 - mae: 0.9134"
     ]
    },
    {
     "name": "stderr",
     "output_type": "stream",
     "text": [
      "[codecarbon INFO @ 16:37:09] Energy consumed for all CPUs : 0.000370 kWh. Total CPU Power : 14.0 W\n",
      "[codecarbon INFO @ 16:37:09] 0.000527 kWh of electricity used since the beginning.\n"
     ]
    },
    {
     "name": "stdout",
     "output_type": "stream",
     "text": [
      "2131/3707 [================>.............] - ETA: 23s - loss: 1.2073 - mae: 0.8837"
     ]
    },
    {
     "name": "stderr",
     "output_type": "stream",
     "text": [
      "[codecarbon INFO @ 16:37:14] Energy consumed for RAM : 0.000165 kWh. RAM Power : 5.944325923919678 W\n",
      "[codecarbon INFO @ 16:37:14] Energy consumed for all CPUs : 0.000390 kWh. Total CPU Power : 14.0 W\n"
     ]
    },
    {
     "name": "stdout",
     "output_type": "stream",
     "text": [
      "2135/3707 [================>.............] - ETA: 22s - loss: 1.2068 - mae: 0.8837"
     ]
    },
    {
     "name": "stderr",
     "output_type": "stream",
     "text": [
      "[codecarbon INFO @ 16:37:14] 0.000554 kWh of electricity used since the beginning.\n"
     ]
    },
    {
     "name": "stdout",
     "output_type": "stream",
     "text": [
      "2619/3707 [====================>.........] - ETA: 15s - loss: 1.1344 - mae: 0.8565"
     ]
    },
    {
     "name": "stderr",
     "output_type": "stream",
     "text": [
      "[codecarbon INFO @ 16:37:19] Energy consumed for RAM : 0.000173 kWh. RAM Power : 5.944325923919678 W\n",
      "[codecarbon INFO @ 16:37:19] Energy consumed for all CPUs : 0.000410 kWh. Total CPU Power : 14.0 W\n"
     ]
    },
    {
     "name": "stdout",
     "output_type": "stream",
     "text": [
      "2621/3707 [====================>.........] - ETA: 15s - loss: 1.1340 - mae: 0.8564"
     ]
    },
    {
     "name": "stderr",
     "output_type": "stream",
     "text": [
      "[codecarbon INFO @ 16:37:19] 0.000582 kWh of electricity used since the beginning.\n"
     ]
    },
    {
     "name": "stdout",
     "output_type": "stream",
     "text": [
      "2905/3707 [======================>.......] - ETA: 11s - loss: 1.1047 - mae: 0.8448"
     ]
    },
    {
     "name": "stderr",
     "output_type": "stream",
     "text": [
      "[codecarbon INFO @ 16:37:24] Energy consumed for RAM : 0.000181 kWh. RAM Power : 5.944325923919678 W\n",
      "[codecarbon INFO @ 16:37:24] Energy consumed for all CPUs : 0.000429 kWh. Total CPU Power : 14.0 W\n",
      "[codecarbon INFO @ 16:37:24] 0.000610 kWh of electricity used since the beginning.\n"
     ]
    },
    {
     "name": "stdout",
     "output_type": "stream",
     "text": [
      "3215/3707 [=========================>....] - ETA: 7s - loss: 1.0522 - mae: 0.8247"
     ]
    },
    {
     "name": "stderr",
     "output_type": "stream",
     "text": [
      "[codecarbon INFO @ 16:37:29] Energy consumed for RAM : 0.000189 kWh. RAM Power : 5.944325923919678 W\n"
     ]
    },
    {
     "name": "stdout",
     "output_type": "stream",
     "text": [
      "3217/3707 [=========================>....] - ETA: 7s - loss: 1.0519 - mae: 0.8247"
     ]
    },
    {
     "name": "stderr",
     "output_type": "stream",
     "text": [
      "[codecarbon INFO @ 16:37:29] Energy consumed for all CPUs : 0.000448 kWh. Total CPU Power : 14.0 W\n",
      "[codecarbon INFO @ 16:37:29] 0.000638 kWh of electricity used since the beginning.\n"
     ]
    },
    {
     "name": "stdout",
     "output_type": "stream",
     "text": [
      "3461/3707 [===========================>..] - ETA: 3s - loss: 1.0132 - mae: 0.8085"
     ]
    },
    {
     "name": "stderr",
     "output_type": "stream",
     "text": [
      "[codecarbon INFO @ 16:37:34] Energy consumed for RAM : 0.000197 kWh. RAM Power : 5.944325923919678 W\n",
      "[codecarbon INFO @ 16:37:34] Energy consumed for all CPUs : 0.000468 kWh. Total CPU Power : 14.0 W\n",
      "[codecarbon INFO @ 16:37:34] 0.000665 kWh of electricity used since the beginning.\n"
     ]
    },
    {
     "name": "stdout",
     "output_type": "stream",
     "text": [
      "3463/3707 [===========================>..] - ETA: 3s - loss: 1.0129 - mae: 0.8084"
     ]
    },
    {
     "name": "stderr",
     "output_type": "stream",
     "text": [
      "[codecarbon INFO @ 16:37:35] 0.000309 g.CO2eq/s mean an estimation of 9.746400485239603 kg.CO2eq/year\n"
     ]
    },
    {
     "name": "stdout",
     "output_type": "stream",
     "text": [
      "3704/3707 [============================>.] - ETA: 0s - loss: 0.9890 - mae: 0.7989"
     ]
    },
    {
     "name": "stderr",
     "output_type": "stream",
     "text": [
      "[codecarbon INFO @ 16:37:39] Energy consumed for RAM : 0.000206 kWh. RAM Power : 5.944325923919678 W\n",
      "[codecarbon INFO @ 16:37:39] Energy consumed for all CPUs : 0.000487 kWh. Total CPU Power : 14.0 W\n",
      "[codecarbon INFO @ 16:37:39] 0.000693 kWh of electricity used since the beginning.\n"
     ]
    },
    {
     "name": "stdout",
     "output_type": "stream",
     "text": [
      "3707/3707 [==============================] - 57s 15ms/step - loss: 0.9909 - mae: 0.7995 - val_loss: 498178.8438 - val_mae: 705.8174 - lr: 0.0010\n",
      "Epoch 4/20\n",
      " 416/3707 [==>...........................] - ETA: 35s - loss: 1.6965 - mae: 1.0207"
     ]
    },
    {
     "name": "stderr",
     "output_type": "stream",
     "text": [
      "[codecarbon INFO @ 16:37:44] Energy consumed for RAM : 0.000214 kWh. RAM Power : 5.944325923919678 W\n",
      "[codecarbon INFO @ 16:37:44] Energy consumed for all CPUs : 0.000507 kWh. Total CPU Power : 14.0 W\n"
     ]
    },
    {
     "name": "stdout",
     "output_type": "stream",
     "text": [
      " 421/3707 [==>...........................] - ETA: 35s - loss: 1.6864 - mae: 1.0182"
     ]
    },
    {
     "name": "stderr",
     "output_type": "stream",
     "text": [
      "[codecarbon INFO @ 16:37:44] 0.000720 kWh of electricity used since the beginning.\n"
     ]
    },
    {
     "name": "stdout",
     "output_type": "stream",
     "text": [
      " 927/3707 [======>.......................] - ETA: 28s - loss: 1.4605 - mae: 0.9444"
     ]
    },
    {
     "name": "stderr",
     "output_type": "stream",
     "text": [
      "[codecarbon INFO @ 16:37:49] Energy consumed for RAM : 0.000222 kWh. RAM Power : 5.944325923919678 W\n",
      "[codecarbon INFO @ 16:37:49] Energy consumed for all CPUs : 0.000526 kWh. Total CPU Power : 14.0 W\n",
      "[codecarbon INFO @ 16:37:49] 0.000748 kWh of electricity used since the beginning.\n"
     ]
    },
    {
     "name": "stdout",
     "output_type": "stream",
     "text": [
      "1386/3707 [==========>...................] - ETA: 24s - loss: 1.3846 - mae: 0.9269"
     ]
    },
    {
     "name": "stderr",
     "output_type": "stream",
     "text": [
      "[codecarbon INFO @ 16:37:54] Energy consumed for RAM : 0.000230 kWh. RAM Power : 5.944325923919678 W\n",
      "[codecarbon INFO @ 16:37:54] Energy consumed for all CPUs : 0.000546 kWh. Total CPU Power : 14.0 W\n",
      "[codecarbon INFO @ 16:37:54] 0.000776 kWh of electricity used since the beginning.\n"
     ]
    },
    {
     "name": "stdout",
     "output_type": "stream",
     "text": [
      "1923/3707 [==============>...............] - ETA: 18s - loss: 1.2595 - mae: 0.8911"
     ]
    },
    {
     "name": "stderr",
     "output_type": "stream",
     "text": [
      "[codecarbon INFO @ 16:37:59] Energy consumed for RAM : 0.000238 kWh. RAM Power : 5.944325923919678 W\n",
      "[codecarbon INFO @ 16:37:59] Energy consumed for all CPUs : 0.000565 kWh. Total CPU Power : 14.0 W\n",
      "[codecarbon INFO @ 16:37:59] 0.000803 kWh of electricity used since the beginning.\n"
     ]
    },
    {
     "name": "stdout",
     "output_type": "stream",
     "text": [
      "2463/3707 [==================>...........] - ETA: 12s - loss: 1.1642 - mae: 0.8598"
     ]
    },
    {
     "name": "stderr",
     "output_type": "stream",
     "text": [
      "[codecarbon INFO @ 16:38:04] Energy consumed for RAM : 0.000247 kWh. RAM Power : 5.944325923919678 W\n",
      "[codecarbon INFO @ 16:38:04] Energy consumed for all CPUs : 0.000584 kWh. Total CPU Power : 14.0 W\n",
      "[codecarbon INFO @ 16:38:04] 0.000831 kWh of electricity used since the beginning.\n"
     ]
    },
    {
     "name": "stdout",
     "output_type": "stream",
     "text": [
      "2947/3707 [======================>.......] - ETA: 7s - loss: 1.1095 - mae: 0.8400"
     ]
    },
    {
     "name": "stderr",
     "output_type": "stream",
     "text": [
      "[codecarbon INFO @ 16:38:09] Energy consumed for RAM : 0.000255 kWh. RAM Power : 5.944325923919678 W\n",
      "[codecarbon INFO @ 16:38:09] Energy consumed for all CPUs : 0.000604 kWh. Total CPU Power : 14.0 W\n",
      "[codecarbon INFO @ 16:38:10] 0.000859 kWh of electricity used since the beginning.\n"
     ]
    },
    {
     "name": "stdout",
     "output_type": "stream",
     "text": [
      "3422/3707 [==========================>...] - ETA: 2s - loss: 1.0315 - mae: 0.8106"
     ]
    },
    {
     "name": "stderr",
     "output_type": "stream",
     "text": [
      "[codecarbon INFO @ 16:38:15] Energy consumed for RAM : 0.000263 kWh. RAM Power : 5.944325923919678 W\n",
      "[codecarbon INFO @ 16:38:15] Energy consumed for all CPUs : 0.000623 kWh. Total CPU Power : 14.0 W\n",
      "[codecarbon INFO @ 16:38:15] 0.000886 kWh of electricity used since the beginning.\n",
      "[codecarbon INFO @ 16:38:15] 0.000309 g.CO2eq/s mean an estimation of 9.755803784194782 kg.CO2eq/year\n"
     ]
    },
    {
     "name": "stdout",
     "output_type": "stream",
     "text": [
      "3707/3707 [==============================] - 38s 10ms/step - loss: 1.0020 - mae: 0.7998 - val_loss: 1788.0186 - val_mae: 42.2759 - lr: 2.0000e-04\n"
     ]
    },
    {
     "name": "stderr",
     "output_type": "stream",
     "text": [
      "[codecarbon INFO @ 16:38:18] Energy consumed for RAM : 0.000269 kWh. RAM Power : 5.944325923919678 W\n",
      "[codecarbon INFO @ 16:38:18] Energy consumed for all CPUs : 0.000637 kWh. Total CPU Power : 14.0 W\n",
      "[codecarbon INFO @ 16:38:18] 0.000906 kWh of electricity used since the beginning.\n"
     ]
    },
    {
     "data": {
      "text/plain": [
       "5.079848529223913e-05"
      ]
     },
     "execution_count": 26,
     "metadata": {},
     "output_type": "execute_result"
    }
   ],
   "source": [
    "\n",
    "from tensorflow.keras import callbacks\n",
    "print(\"Training the model...\")\n",
    "callbacks = [\n",
    "    callbacks.EarlyStopping(\n",
    "        monitor='val_loss',\n",
    "        patience=3,\n",
    "        restore_best_weights=True,\n",
    "        min_delta=0.001\n",
    "    ),\n",
    "    callbacks.ReduceLROnPlateau(\n",
    "        monitor='val_loss',\n",
    "        factor=0.2,\n",
    "        patience=2,\n",
    "        min_lr=1e-6\n",
    "    )\n",
    "]\n",
    "tracker.start()\n",
    "history = model.fit(\n",
    "    X_train_seq,\n",
    "    y_train_seq,\n",
    "    validation_data=(X_val, y_val),\n",
    "    epochs=20,\n",
    "    batch_size=256,\n",
    "    shuffle=False,\n",
    "    callbacks=[callbacks] \n",
    ")\n",
    "\n",
    "tracker.stop()\n"
   ]
  },
  {
   "cell_type": "code",
   "execution_count": 27,
   "metadata": {},
   "outputs": [
    {
     "data": {
      "image/png": "[encoded data removed]",
      "text/plain": [
       "<Figure size 640x480 with 1 Axes>"
      ]
     },
     "metadata": {},
     "output_type": "display_data"
    }
   ],
   "source": [
    "plt.plot(history.history['loss'], label='Training Loss')\n",
    "plt.plot(history.history['val_loss'], label='Validation Loss')\n",
    "plt.xlabel('Epochs')\n",
    "plt.ylabel('Loss')\n",
    "plt.legend()\n",
    "plt.title('Training vs Validation Loss')\n",
    "plt.show()"
   ]
  },
  {
   "cell_type": "code",
   "execution_count": 28,
   "metadata": {},
   "outputs": [
    {
     "name": "stdout",
     "output_type": "stream",
     "text": [
      "4427/4427 [==============================] - 12s 3ms/step\n",
      "Le taux de précision correctes de test avec tolerance=0: 0.00%\n",
      "Le taux de précision correctes de test avec tolerance=1: 0.00%\n",
      "Le taux de précision correctes de test avec tolerance=2: 0.00%\n",
      "MSE: 296.8793, MAE: 17.1947, R²: -241.8621\n"
     ]
    }
   ],
   "source": [
    "def taux_correct_predictions(y_test,y_pred,tolerance):\n",
    "    correct_predictions = np.abs(y_test - y_pred) <= tolerance\n",
    "    accuracy = np.mean(correct_predictions) * 100  \n",
    "    print(f\"Le taux de précision correctes de test avec tolerance={tolerance}: {accuracy:.2f}%\")\n",
    "predictions = model.predict(X_test_seq)\n",
    "predictions = np.round(predictions).astype(int)\n",
    "# Calcul des métriques pour l'ensemble de test\n",
    "mse = mean_squared_error(y_test_seq, predictions)\n",
    "mae = mean_absolute_error(y_test_seq, predictions)\n",
    "r2 = r2_score(y_test_seq, predictions)\n",
    "y_test = scaler_y.inverse_transform(y_test_seq.reshape(-1, 1)).flatten()\n",
    "predictions = scaler_y.inverse_transform(predictions.reshape(-1, 1)).flatten()\n",
    "\n",
    "taux_correct_predictions(y_test,predictions,0)\n",
    "taux_correct_predictions(y_test,predictions,1)\n",
    "taux_correct_predictions(y_test,predictions,2)\n",
    "\n",
    "print(f\"MSE: {mse:.4f}, MAE: {mae:.4f}, R²: {r2:.4f}\")"
   ]
  },
  {
   "cell_type": "code",
   "execution_count": 29,
   "metadata": {},
   "outputs": [
    {
     "data": {
      "image/png": "[encoded data removed]",
      "text/plain": [
       "<Figure size 1200x600 with 1 Axes>"
      ]
     },
     "metadata": {},
     "output_type": "display_data"
    }
   ],
   "source": [
    "plt.figure(figsize=(12, 6))\n",
    "plt.plot(y_test[:1000], label='Actual')\n",
    "plt.plot(predictions[:1000], label='Predicted')\n",
    "plt.title('Actual vs Predicted Values (First 1000 samples)')\n",
    "plt.xlabel('Sample')\n",
    "plt.ylabel('Normalized Available Bikes')\n",
    "plt.legend()\n",
    "plt.show()"
   ]
  },
  {
   "cell_type": "code",
   "execution_count": null,
   "metadata": {},
   "outputs": [],
   "source": []
  },
  {
   "cell_type": "code",
   "execution_count": null,
   "metadata": {},
   "outputs": [],
   "source": []
  }
 ],
 "metadata": {
  "kernelspec": {
   "display_name": "envCnn",
   "language": "python",
   "name": "python3"
  },
  "language_info": {
   "codemirror_mode": {
    "name": "ipython",
    "version": 3
   },
   "file_extension": ".py",
   "mimetype": "text/x-python",
   "name": "python",
   "nbconvert_exporter": "python",
   "pygments_lexer": "ipython3",
   "version": "3.8.5"
  }
 },
 "nbformat": 4,
 "nbformat_minor": 2
}
