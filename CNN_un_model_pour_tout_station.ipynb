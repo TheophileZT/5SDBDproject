{
 "cells": [
  {
   "cell_type": "markdown",
   "metadata": {},
   "source": [
    "## CNN pour tout station"
   ]
  },
  {
   "cell_type": "code",
   "execution_count": 30,
   "metadata": {},
   "outputs": [],
   "source": [
    "import pandas as pd\n",
    "import numpy as np\n",
    "from sklearn.model_selection import train_test_split\n",
    "from sklearn.preprocessing import MinMaxScaler\n",
    "from sklearn.metrics import  mean_absolute_error, mean_squared_error, r2_score\n",
    "from tensorflow.keras import layers ,optimizers,models,regularizers\n",
    "import matplotlib.pyplot as plt\n",
    "from sklearn.discriminant_analysis import StandardScaler\n",
    "import matplotlib.pyplot as plt\n",
    "import seaborn as sns\n",
    "from codecarbon import EmissionsTracker\n",
    "import logging"
   ]
  },
  {
   "cell_type": "markdown",
   "metadata": {},
   "source": [
    "code carbon"
   ]
  },
  {
   "cell_type": "code",
   "execution_count": 31,
   "metadata": {},
   "outputs": [
    {
     "name": "stderr",
     "output_type": "stream",
     "text": [
      "[codecarbon WARNING @ 10:34:16] Multiple instances of codecarbon are allowed to run at the same time.\n",
      "[codecarbon INFO @ 10:34:16] [setup] RAM Tracking...\n",
      "[codecarbon INFO @ 10:34:16] [setup] CPU Tracking...\n",
      "[codecarbon WARNING @ 10:34:16] No CPU tracking mode found. Falling back on CPU constant mode. \n",
      " Windows OS detected: Please install Intel Power Gadget to measure CPU\n",
      "\n"
     ]
    },
    {
     "name": "stderr",
     "output_type": "stream",
     "text": [
      "[codecarbon INFO @ 10:34:18] CPU Model on constant consumption mode: Intel(R) Core(TM) i7-8565U CPU @ 1.80GHz\n",
      "[codecarbon INFO @ 10:34:18] [setup] GPU Tracking...\n",
      "[codecarbon INFO @ 10:34:18] No GPU found.\n",
      "[codecarbon INFO @ 10:34:18] >>> Tracker's metadata:\n",
      "[codecarbon INFO @ 10:34:18]   Platform system: Windows-10-10.0.22621-SP0\n",
      "[codecarbon INFO @ 10:34:18]   Python version: 3.8.5\n",
      "[codecarbon INFO @ 10:34:18]   CodeCarbon version: 2.8.3\n",
      "[codecarbon INFO @ 10:34:18]   Available RAM : 15.852 GB\n",
      "[codecarbon INFO @ 10:34:18]   CPU count: 8\n",
      "[codecarbon INFO @ 10:34:18]   CPU model: Intel(R) Core(TM) i7-8565U CPU @ 1.80GHz\n",
      "[codecarbon INFO @ 10:34:18]   GPU count: None\n",
      "[codecarbon INFO @ 10:34:18]   GPU model: None\n",
      "[codecarbon INFO @ 10:34:18] Saving emissions data to file d:\\CODE\\code_python\\integre\\cnn\\5SDBDproject\\emissions\\model_cnn_window_glissant.csv\n"
     ]
    }
   ],
   "source": [
    "tracker = EmissionsTracker(\n",
    "    project_name=\"cnn_window_glissant\",\n",
    "    log_level=logging.INFO,\n",
    "    output_file=\"model_cnn_window_glissant.csv\",\n",
    "    output_dir='./emissions/',\n",
    "    save_to_file=True,\n",
    "    measure_power_secs=5,\n",
    "    allow_multiple_runs=True \n",
    ")"
   ]
  },
  {
   "cell_type": "code",
   "execution_count": 32,
   "metadata": {},
   "outputs": [
    {
     "name": "stdout",
     "output_type": "stream",
     "text": [
      "['timestamp', 'number', 'status', 'available_bike_stands', 'available_bikes', 'bike_stands', 'visibility_distance', 'current_temperature', 'feels_like_temperature', 'is_rainy', 'wind_speed', 'counter_events', 'day_of_week', 'is_weekend']\n",
      "['bike_stands', 'available_bike_stands', 'visibility_distance', 'current_temperature', 'feels_like_temperature', 'wind_speed', 'counter_events', 'timestamp', 'number', 'status', 'available_bikes', 'is_rainy', 'day_of_week', 'is_weekend']\n"
     ]
    }
   ],
   "source": [
    "file_path = 'merged_all_bikes_weather_events.csv'\n",
    "data = pd.read_csv(file_path)\n",
    "data['timestamp'] = pd.to_datetime(data['timestamp']).astype('int64') \n",
    "data['day_of_week'] = pd.to_datetime(data['timestamp']).dt.dayofweek\n",
    "data['is_weekend'] = data['day_of_week'].apply(lambda x: 1 if x >= 5 else 0)\n",
    "data=data.sort_values('timestamp')\n",
    "print(data.columns.to_list())\n",
    "feature_to_normaliser=['bike_stands','available_bike_stands', 'visibility_distance', 'current_temperature', 'feels_like_temperature', 'wind_speed', 'counter_events']\n",
    "other_features = [col for col in data.columns if col not in feature_to_normaliser]\n",
    "new_column_order=feature_to_normaliser+other_features\n",
    "data=data[new_column_order]\n",
    "print(data.columns.to_list())\n",
    "num_features_to_normalize=len(feature_to_normaliser)"
   ]
  },
  {
   "cell_type": "markdown",
   "metadata": {},
   "source": [
    "Normaliser"
   ]
  },
  {
   "cell_type": "code",
   "execution_count": 33,
   "metadata": {},
   "outputs": [
    {
     "data": {
      "text/html": [
       "<div>\n",
       "<style scoped>\n",
       "    .dataframe tbody tr th:only-of-type {\n",
       "        vertical-align: middle;\n",
       "    }\n",
       "\n",
       "    .dataframe tbody tr th {\n",
       "        vertical-align: top;\n",
       "    }\n",
       "\n",
       "    .dataframe thead th {\n",
       "        text-align: right;\n",
       "    }\n",
       "</style>\n",
       "<table border=\"1\" class=\"dataframe\">\n",
       "  <thead>\n",
       "    <tr style=\"text-align: right;\">\n",
       "      <th></th>\n",
       "      <th>bike_stands</th>\n",
       "      <th>available_bike_stands</th>\n",
       "      <th>visibility_distance</th>\n",
       "      <th>current_temperature</th>\n",
       "      <th>feels_like_temperature</th>\n",
       "      <th>wind_speed</th>\n",
       "      <th>counter_events</th>\n",
       "      <th>timestamp</th>\n",
       "      <th>number</th>\n",
       "      <th>status</th>\n",
       "      <th>available_bikes</th>\n",
       "      <th>is_rainy</th>\n",
       "      <th>day_of_week</th>\n",
       "      <th>is_weekend</th>\n",
       "    </tr>\n",
       "  </thead>\n",
       "  <tbody>\n",
       "    <tr>\n",
       "      <th>0</th>\n",
       "      <td>20</td>\n",
       "      <td>7</td>\n",
       "      <td>10000.0</td>\n",
       "      <td>6.99</td>\n",
       "      <td>6.17</td>\n",
       "      <td>5.54</td>\n",
       "      <td>0</td>\n",
       "      <td>1733940000000000000</td>\n",
       "      <td>259</td>\n",
       "      <td>1</td>\n",
       "      <td>13</td>\n",
       "      <td>0.0</td>\n",
       "      <td>2</td>\n",
       "      <td>0</td>\n",
       "    </tr>\n",
       "    <tr>\n",
       "      <th>870608</th>\n",
       "      <td>16</td>\n",
       "      <td>11</td>\n",
       "      <td>10000.0</td>\n",
       "      <td>6.99</td>\n",
       "      <td>6.17</td>\n",
       "      <td>5.54</td>\n",
       "      <td>0</td>\n",
       "      <td>1733940000000000000</td>\n",
       "      <td>257</td>\n",
       "      <td>1</td>\n",
       "      <td>5</td>\n",
       "      <td>0.0</td>\n",
       "      <td>2</td>\n",
       "      <td>0</td>\n",
       "    </tr>\n",
       "    <tr>\n",
       "      <th>869769</th>\n",
       "      <td>13</td>\n",
       "      <td>2</td>\n",
       "      <td>10000.0</td>\n",
       "      <td>6.99</td>\n",
       "      <td>6.17</td>\n",
       "      <td>5.54</td>\n",
       "      <td>0</td>\n",
       "      <td>1733940000000000000</td>\n",
       "      <td>309</td>\n",
       "      <td>1</td>\n",
       "      <td>10</td>\n",
       "      <td>0.0</td>\n",
       "      <td>2</td>\n",
       "      <td>0</td>\n",
       "    </tr>\n",
       "    <tr>\n",
       "      <th>869768</th>\n",
       "      <td>17</td>\n",
       "      <td>16</td>\n",
       "      <td>10000.0</td>\n",
       "      <td>6.99</td>\n",
       "      <td>6.17</td>\n",
       "      <td>5.54</td>\n",
       "      <td>0</td>\n",
       "      <td>1733940000000000000</td>\n",
       "      <td>207</td>\n",
       "      <td>1</td>\n",
       "      <td>1</td>\n",
       "      <td>0.0</td>\n",
       "      <td>2</td>\n",
       "      <td>0</td>\n",
       "    </tr>\n",
       "    <tr>\n",
       "      <th>868965</th>\n",
       "      <td>22</td>\n",
       "      <td>5</td>\n",
       "      <td>10000.0</td>\n",
       "      <td>6.99</td>\n",
       "      <td>6.17</td>\n",
       "      <td>5.54</td>\n",
       "      <td>0</td>\n",
       "      <td>1733940000000000000</td>\n",
       "      <td>126</td>\n",
       "      <td>1</td>\n",
       "      <td>17</td>\n",
       "      <td>0.0</td>\n",
       "      <td>2</td>\n",
       "      <td>0</td>\n",
       "    </tr>\n",
       "  </tbody>\n",
       "</table>\n",
       "</div>"
      ],
      "text/plain": [
       "        bike_stands  available_bike_stands  visibility_distance  \\\n",
       "0                20                      7              10000.0   \n",
       "870608           16                     11              10000.0   \n",
       "869769           13                      2              10000.0   \n",
       "869768           17                     16              10000.0   \n",
       "868965           22                      5              10000.0   \n",
       "\n",
       "        current_temperature  feels_like_temperature  wind_speed  \\\n",
       "0                      6.99                    6.17        5.54   \n",
       "870608                 6.99                    6.17        5.54   \n",
       "869769                 6.99                    6.17        5.54   \n",
       "869768                 6.99                    6.17        5.54   \n",
       "868965                 6.99                    6.17        5.54   \n",
       "\n",
       "        counter_events            timestamp  number  status  available_bikes  \\\n",
       "0                    0  1733940000000000000     259       1               13   \n",
       "870608               0  1733940000000000000     257       1                5   \n",
       "869769               0  1733940000000000000     309       1               10   \n",
       "869768               0  1733940000000000000     207       1                1   \n",
       "868965               0  1733940000000000000     126       1               17   \n",
       "\n",
       "        is_rainy  day_of_week  is_weekend  \n",
       "0            0.0            2           0  \n",
       "870608       0.0            2           0  \n",
       "869769       0.0            2           0  \n",
       "869768       0.0            2           0  \n",
       "868965       0.0            2           0  "
      ]
     },
     "execution_count": 33,
     "metadata": {},
     "output_type": "execute_result"
    }
   ],
   "source": [
    "### verifier ordonne\n",
    "data[:5]"
   ]
  },
  {
   "cell_type": "code",
   "execution_count": 34,
   "metadata": {},
   "outputs": [
    {
     "name": "stdout",
     "output_type": "stream",
     "text": [
      "\n",
      " x train shape: (950319, 13)\n",
      "\n",
      " x test shape: (237580, 13)\n",
      "\n",
      " y train shape: (950319,)\n",
      "\n",
      " y test shape: (237580,)\n"
     ]
    }
   ],
   "source": [
    "X = data.drop(columns=['available_bikes']).values  \n",
    "y = data['available_bikes'].values \n",
    "## test et train\n",
    "split_index = int(0.8 * len(X))  \n",
    "X_train_raw, X_test_raw = X[:split_index], X[split_index:]\n",
    "y_train_raw, y_test_raw = y[:split_index], y[split_index:]\n",
    "scaler_X = StandardScaler()\n",
    "X_train_to_normalize = X_train_raw[:, :num_features_to_normalize]\n",
    "X_train_not_to_normalize = X_train_raw[:, num_features_to_normalize:]\n",
    "X_train_feature_normalized = scaler_X.fit_transform(X_train_to_normalize)\n",
    "\n",
    "X_test_to_normalize = X_test_raw[:, :num_features_to_normalize]\n",
    "X_test_not_to_normalize = X_test_raw[:, num_features_to_normalize:]\n",
    "X_test_to_feature_normalized = scaler_X.transform(X_test_to_normalize)\n",
    "\n",
    "X_train = np.hstack([X_train_feature_normalized, X_train_not_to_normalize])\n",
    "X_test = np.hstack([X_test_to_feature_normalized, X_test_not_to_normalize])\n",
    "\n",
    "scaler_y = StandardScaler()\n",
    "y_train = scaler_y.fit_transform(y_train_raw.reshape(-1, 1)).flatten()\n",
    "y_test = scaler_y.transform(y_test_raw.reshape(-1, 1)).flatten()\n",
    "print(\"\\n x train shape:\",X_train.shape)\n",
    "print(\"\\n x test shape:\",X_test.shape)\n",
    "print(\"\\n y train shape:\",y_train.shape)\n",
    "print(\"\\n y test shape:\",y_test.shape)"
   ]
  },
  {
   "cell_type": "markdown",
   "metadata": {},
   "source": [
    "window glissant"
   ]
  },
  {
   "cell_type": "code",
   "execution_count": 35,
   "metadata": {},
   "outputs": [
    {
     "name": "stdout",
     "output_type": "stream",
     "text": [
      "8\n",
      "[259. 257. 309. ... 265.  65. 396.]\n",
      "382\n"
     ]
    }
   ],
   "source": [
    "station_column_index = list(data.drop(columns='available_bikes').columns).index('number')\n",
    "\n",
    "print(station_column_index)\n",
    "station_ids = X[:, station_column_index]\n",
    "print(station_ids)\n",
    "unique_stations = np.unique(station_ids)\n",
    "print(len(unique_stations))"
   ]
  },
  {
   "cell_type": "code",
   "execution_count": 36,
   "metadata": {},
   "outputs": [
    {
     "name": "stdout",
     "output_type": "stream",
     "text": [
      "\n",
      "train data:\n",
      "X_train_seq shape: (948791, 4, 14)\n",
      "y_train_seq shape: (948791,)\n",
      "station_train_seq shape: (948791,)\n",
      "\n",
      "test data:\n",
      "X_test_seq shape: (236056, 4, 14)\n",
      "y_test_seq shape: (236056,)\n",
      "station_test_seq shape: (236056,)\n"
     ]
    }
   ],
   "source": [
    "def create_sliding_window_grouped(X, y, station_ids, time_steps):\n",
    "    X_seq_all, y_seq_all, station_seq_all = [], [], []\n",
    "    unique_stations = np.unique(station_ids)\n",
    "\n",
    "    for station in unique_stations:\n",
    "        station_indices = np.where(station_ids == station)[0]\n",
    "        X_station = X[station_indices]\n",
    "        y_station = y[station_indices]\n",
    "        for i in range(len(X_station) - time_steps):\n",
    "            X_window = np.hstack([X_station[i:i + time_steps], y_station[i:i + time_steps].reshape(-1, 1)])\n",
    "            X_seq_all.append(X_window)\n",
    "            y_seq_all.append(y_station[i + time_steps])\n",
    "            station_seq_all.append(station)\n",
    "\n",
    "    return np.array(X_seq_all), np.array(y_seq_all), np.array(station_seq_all)\n",
    "time_steps=4\n",
    "X_train_seq, y_train_seq, station_train_seq = create_sliding_window_grouped(X_train, y_train, station_ids[:split_index], time_steps)\n",
    "X_test_seq, y_test_seq, station_test_seq = create_sliding_window_grouped(X_test, y_test, station_ids[split_index:], time_steps)\n",
    "\n",
    "print(\"\\ntrain data:\")\n",
    "print(\"X_train_seq shape:\", X_train_seq.shape)\n",
    "print(\"y_train_seq shape:\", y_train_seq.shape)\n",
    "print(\"station_train_seq shape:\", station_train_seq.shape)\n",
    "\n",
    "print(\"\\ntest data:\")\n",
    "print(\"X_test_seq shape:\", X_test_seq.shape)\n",
    "print(\"y_test_seq shape:\", y_test_seq.shape)\n",
    "print(\"station_test_seq shape:\", station_test_seq.shape)"
   ]
  },
  {
   "cell_type": "markdown",
   "metadata": {},
   "source": [
    "model cnn"
   ]
  },
  {
   "cell_type": "markdown",
   "metadata": {},
   "source": [
    "verifier data tranning"
   ]
  },
  {
   "cell_type": "code",
   "execution_count": 37,
   "metadata": {},
   "outputs": [
    {
     "name": "stdout",
     "output_type": "stream",
     "text": [
      "['bike_stands', 'available_bike_stands', 'visibility_distance', 'current_temperature', 'feels_like_temperature', 'wind_speed', 'counter_events', 'timestamp', 'number', 'status', 'is_rainy', 'day_of_week', 'is_weekend']\n",
      "[[ 1.72191139e-01 -1.03536827e+00  6.01042690e-01 -5.99491337e-02\n",
      "   1.07119318e-01 -6.82358561e-01  2.39245755e+00  1.73394090e+18\n",
      "   1.00000000e+00  1.00000000e+00  0.00000000e+00  2.00000000e+00\n",
      "   0.00000000e+00  1.72958431e+00]\n",
      " [ 1.72191139e-01 -8.77475701e-01  6.01042690e-01 -1.34252842e-01\n",
      "  -1.50572189e-02 -6.29059375e-01  2.39245755e+00  1.73394180e+18\n",
      "   1.00000000e+00  1.00000000e+00  0.00000000e+00  2.00000000e+00\n",
      "   0.00000000e+00  1.31811055e+00]\n",
      " [ 1.72191139e-01 -5.61690556e-01  6.01042690e-01 -2.08556550e-01\n",
      "  -1.37233756e-01 -5.75760190e-01  2.39245755e+00  1.73394270e+18\n",
      "   1.00000000e+00  1.00000000e+00  0.00000000e+00  2.00000000e+00\n",
      "   0.00000000e+00  9.06636786e-01]\n",
      " [ 1.72191139e-01 -2.45905412e-01  6.01042690e-01 -2.82860258e-01\n",
      "  -2.59410293e-01 -5.22461004e-01  2.39245755e+00  1.73394360e+18\n",
      "   1.00000000e+00  1.00000000e+00  0.00000000e+00  2.00000000e+00\n",
      "   0.00000000e+00  4.95163026e-01]]\n",
      "0.289426146263466\n",
      "1.0\n"
     ]
    }
   ],
   "source": [
    "print(data.drop(columns='available_bikes').columns.to_list())\n",
    "print(X_train_seq[1])\n",
    "print(y_train_seq[1])\n",
    "print(station_train_seq[1])"
   ]
  },
  {
   "cell_type": "code",
   "execution_count": null,
   "metadata": {},
   "outputs": [
    {
     "name": "stdout",
     "output_type": "stream",
     "text": [
      "Model: \"sequential_2\"\n",
      "_________________________________________________________________\n",
      " Layer (type)                Output Shape              Param #   \n",
      "=================================================================\n",
      " conv1d_2 (Conv1D)           (None, 3, 16)             464       \n",
      "                                                                 \n",
      " batch_normalization_4 (Bat  (None, 3, 16)             64        \n",
      " chNormalization)                                                \n",
      "                                                                 \n",
      " max_pooling1d_2 (MaxPoolin  (None, 2, 16)             0         \n",
      " g1D)                                                            \n",
      "                                                                 \n",
      " dropout_4 (Dropout)         (None, 2, 16)             0         \n",
      "                                                                 \n",
      " flatten_2 (Flatten)         (None, 32)                0         \n",
      "                                                                 \n",
      " dense_4 (Dense)             (None, 32)                1056      \n",
      "                                                                 \n",
      " batch_normalization_5 (Bat  (None, 32)                128       \n",
      " chNormalization)                                                \n",
      "                                                                 \n",
      " dropout_5 (Dropout)         (None, 32)                0         \n",
      "                                                                 \n",
      " dense_5 (Dense)             (None, 1)                 33        \n",
      "                                                                 \n",
      "=================================================================\n",
      "Total params: 1745 (6.82 KB)\n",
      "Trainable params: 1649 (6.44 KB)\n",
      "Non-trainable params: 96 (384.00 Byte)\n",
      "_________________________________________________________________\n"
     ]
    }
   ],
   "source": [
    "model = models.Sequential([\n",
    "    layers.Conv1D(filters=16,  \n",
    "                  kernel_size=2, \n",
    "                  activation='relu', \n",
    "                  input_shape=(X_train_seq.shape[1], X_train_seq.shape[2]),\n",
    "                  kernel_regularizer=regularizers.l2(0.001)\n",
    "                  ),  \n",
    "    layers.BatchNormalization(),  \n",
    "    layers.MaxPooling1D(pool_size=2, strides=1),\n",
    "    layers.Dropout(0.15),\n",
    " \n",
    "    layers.Flatten(),\n",
    "    layers.Dense(64, activation='relu'),\n",
    "    layers.BatchNormalization(),\n",
    "    layers.Dropout(0.2),\n",
    "    layers.Dense(32, activation='relu'),\n",
    "    layers.BatchNormalization(),\n",
    "    layers.Dropout(0.1),\n",
    "    \n",
    "    layers.Dense(1, activation='linear')\n",
    "])\n",
    "model.compile(optimizer='adam', loss='mse', metrics=['mae'])\n",
    "model.summary()"
   ]
  },
  {
   "cell_type": "code",
   "execution_count": 39,
   "metadata": {},
   "outputs": [
    {
     "name": "stdout",
     "output_type": "stream",
     "text": [
      "\n",
      "train data:\n",
      "X_train_seq shape: (948791, 4, 14)\n",
      "y_train_seq shape: (948791,)\n",
      "\n",
      "val data:\n",
      "X_val shape: (94423, 4, 14)\n",
      "y_val shape: (94423,)\n",
      "\n",
      "test data:\n",
      "X_test_seq shape: (141633, 4, 14)\n",
      "y_test_seq shape: (141633,)\n"
     ]
    }
   ],
   "source": [
    "val_size = int(0.6 * len(X_test_seq))\n",
    "X_test_seq, X_val = X_test_seq[:val_size], X_test_seq[val_size:]\n",
    "y_test_seq, y_val = y_test_seq[:val_size], y_test_seq[val_size:]\n",
    "print(\"\\ntrain data:\")\n",
    "print(\"X_train_seq shape:\", X_train_seq.shape)\n",
    "print(\"y_train_seq shape:\", y_train_seq.shape)\n",
    "\n",
    "print(\"\\nval data:\")\n",
    "print(\"X_val shape:\", X_val.shape)\n",
    "print(\"y_val shape:\", y_val.shape)\n",
    "print(\"\\ntest data:\")\n",
    "print(\"X_test_seq shape:\", X_test_seq.shape)\n",
    "print(\"y_test_seq shape:\", y_test_seq.shape)"
   ]
  },
  {
   "cell_type": "code",
   "execution_count": 40,
   "metadata": {},
   "outputs": [
    {
     "name": "stdout",
     "output_type": "stream",
     "text": [
      "Training the model...\n",
      "Epoch 1/30\n",
      "  550/14825 [>.............................] - ETA: 58s - loss: 2.5266 - mae: 1.2562"
     ]
    },
    {
     "name": "stderr",
     "output_type": "stream",
     "text": [
      "[codecarbon INFO @ 10:34:50] Energy consumed for RAM : 0.000008 kWh. RAM Power : 5.944325923919678 W\n",
      "[codecarbon INFO @ 10:34:50] Energy consumed for all CPUs : 0.000020 kWh. Total CPU Power : 14.0 W\n",
      "[codecarbon INFO @ 10:34:50] 0.000028 kWh of electricity used since the beginning.\n"
     ]
    },
    {
     "name": "stdout",
     "output_type": "stream",
     "text": [
      " 1681/14825 [==>...........................] - ETA: 56s - loss: 1.8159 - mae: 1.0776"
     ]
    },
    {
     "name": "stderr",
     "output_type": "stream",
     "text": [
      "[codecarbon INFO @ 10:34:55] Energy consumed for RAM : 0.000016 kWh. RAM Power : 5.944325923919678 W\n"
     ]
    },
    {
     "name": "stdout",
     "output_type": "stream",
     "text": [
      " 1696/14825 [==>...........................] - ETA: 56s - loss: 1.8045 - mae: 1.0735"
     ]
    },
    {
     "name": "stderr",
     "output_type": "stream",
     "text": [
      "[codecarbon INFO @ 10:34:55] Energy consumed for all CPUs : 0.000039 kWh. Total CPU Power : 14.0 W\n",
      "[codecarbon INFO @ 10:34:55] 0.000055 kWh of electricity used since the beginning.\n"
     ]
    },
    {
     "name": "stdout",
     "output_type": "stream",
     "text": [
      " 2878/14825 [====>.........................] - ETA: 50s - loss: 1.5528 - mae: 0.9756"
     ]
    },
    {
     "name": "stderr",
     "output_type": "stream",
     "text": [
      "[codecarbon INFO @ 10:35:00] Energy consumed for RAM : 0.000025 kWh. RAM Power : 5.944325923919678 W\n",
      "[codecarbon INFO @ 10:35:00] Energy consumed for all CPUs : 0.000059 kWh. Total CPU Power : 14.0 W\n"
     ]
    },
    {
     "name": "stdout",
     "output_type": "stream",
     "text": [
      " 2883/14825 [====>.........................] - ETA: 51s - loss: 1.5520 - mae: 0.9756"
     ]
    },
    {
     "name": "stderr",
     "output_type": "stream",
     "text": [
      "[codecarbon INFO @ 10:35:00] 0.000083 kWh of electricity used since the beginning.\n"
     ]
    },
    {
     "name": "stdout",
     "output_type": "stream",
     "text": [
      " 4116/14825 [=======>......................] - ETA: 44s - loss: 1.5050 - mae: 0.9737"
     ]
    },
    {
     "name": "stderr",
     "output_type": "stream",
     "text": [
      "[codecarbon INFO @ 10:35:05] Energy consumed for RAM : 0.000033 kWh. RAM Power : 5.944325923919678 W\n"
     ]
    },
    {
     "name": "stdout",
     "output_type": "stream",
     "text": [
      " 4132/14825 [=======>......................] - ETA: 44s - loss: 1.5056 - mae: 0.9741"
     ]
    },
    {
     "name": "stderr",
     "output_type": "stream",
     "text": [
      "[codecarbon INFO @ 10:35:05] Energy consumed for all CPUs : 0.000078 kWh. Total CPU Power : 14.0 W\n",
      "[codecarbon INFO @ 10:35:05] 0.000111 kWh of electricity used since the beginning.\n"
     ]
    },
    {
     "name": "stdout",
     "output_type": "stream",
     "text": [
      " 5434/14825 [=========>....................] - ETA: 38s - loss: 1.4171 - mae: 0.9513"
     ]
    },
    {
     "name": "stderr",
     "output_type": "stream",
     "text": [
      "[codecarbon INFO @ 10:35:10] Energy consumed for RAM : 0.000041 kWh. RAM Power : 5.944325923919678 W\n",
      "[codecarbon INFO @ 10:35:10] Energy consumed for all CPUs : 0.000097 kWh. Total CPU Power : 14.0 W\n"
     ]
    },
    {
     "name": "stdout",
     "output_type": "stream",
     "text": [
      " 5446/14825 [==========>...................] - ETA: 38s - loss: 1.4176 - mae: 0.9517"
     ]
    },
    {
     "name": "stderr",
     "output_type": "stream",
     "text": [
      "[codecarbon INFO @ 10:35:10] 0.000139 kWh of electricity used since the beginning.\n"
     ]
    },
    {
     "name": "stdout",
     "output_type": "stream",
     "text": [
      " 6798/14825 [============>.................] - ETA: 32s - loss: 1.3351 - mae: 0.9281"
     ]
    },
    {
     "name": "stderr",
     "output_type": "stream",
     "text": [
      "[codecarbon INFO @ 10:35:15] Energy consumed for RAM : 0.000049 kWh. RAM Power : 5.944325923919678 W\n",
      "[codecarbon INFO @ 10:35:15] Energy consumed for all CPUs : 0.000117 kWh. Total CPU Power : 14.0 W\n",
      "[codecarbon INFO @ 10:35:15] 0.000166 kWh of electricity used since the beginning.\n"
     ]
    },
    {
     "name": "stdout",
     "output_type": "stream",
     "text": [
      " 7879/14825 [==============>...............] - ETA: 28s - loss: 1.2702 - mae: 0.9053"
     ]
    },
    {
     "name": "stderr",
     "output_type": "stream",
     "text": [
      "[codecarbon INFO @ 10:35:20] Energy consumed for RAM : 0.000058 kWh. RAM Power : 5.944325923919678 W\n"
     ]
    },
    {
     "name": "stdout",
     "output_type": "stream",
     "text": [
      " 7882/14825 [==============>...............] - ETA: 28s - loss: 1.2699 - mae: 0.9052"
     ]
    },
    {
     "name": "stderr",
     "output_type": "stream",
     "text": [
      "[codecarbon INFO @ 10:35:20] Energy consumed for all CPUs : 0.000137 kWh. Total CPU Power : 14.0 W\n",
      "[codecarbon INFO @ 10:35:20] 0.000195 kWh of electricity used since the beginning.\n"
     ]
    },
    {
     "name": "stdout",
     "output_type": "stream",
     "text": [
      " 9128/14825 [=================>............] - ETA: 23s - loss: 1.2136 - mae: 0.8838"
     ]
    },
    {
     "name": "stderr",
     "output_type": "stream",
     "text": [
      "[codecarbon INFO @ 10:35:25] Energy consumed for RAM : 0.000066 kWh. RAM Power : 5.944325923919678 W\n",
      "[codecarbon INFO @ 10:35:25] Energy consumed for all CPUs : 0.000156 kWh. Total CPU Power : 14.0 W\n",
      "[codecarbon INFO @ 10:35:25] 0.000222 kWh of electricity used since the beginning.\n"
     ]
    },
    {
     "name": "stdout",
     "output_type": "stream",
     "text": [
      " 9138/14825 [=================>............] - ETA: 23s - loss: 1.2128 - mae: 0.8834"
     ]
    },
    {
     "name": "stderr",
     "output_type": "stream",
     "text": [
      "[codecarbon INFO @ 10:35:25] 0.000310 g.CO2eq/s mean an estimation of 9.766234382300606 kg.CO2eq/year\n"
     ]
    },
    {
     "name": "stdout",
     "output_type": "stream",
     "text": [
      "10465/14825 [====================>.........] - ETA: 17s - loss: 1.1623 - mae: 0.8655"
     ]
    },
    {
     "name": "stderr",
     "output_type": "stream",
     "text": [
      "[codecarbon INFO @ 10:35:30] Energy consumed for RAM : 0.000074 kWh. RAM Power : 5.944325923919678 W\n",
      "[codecarbon INFO @ 10:35:30] Energy consumed for all CPUs : 0.000176 kWh. Total CPU Power : 14.0 W\n",
      "[codecarbon INFO @ 10:35:30] 0.000250 kWh of electricity used since the beginning.\n"
     ]
    },
    {
     "name": "stdout",
     "output_type": "stream",
     "text": [
      "11838/14825 [======================>.......] - ETA: 11s - loss: 1.1180 - mae: 0.8481"
     ]
    },
    {
     "name": "stderr",
     "output_type": "stream",
     "text": [
      "[codecarbon INFO @ 10:35:35] Energy consumed for RAM : 0.000082 kWh. RAM Power : 5.944325923919678 W\n",
      "[codecarbon INFO @ 10:35:35] Energy consumed for all CPUs : 0.000195 kWh. Total CPU Power : 14.0 W\n",
      "[codecarbon INFO @ 10:35:35] 0.000277 kWh of electricity used since the beginning.\n"
     ]
    },
    {
     "name": "stdout",
     "output_type": "stream",
     "text": [
      "13141/14825 [=========================>....] - ETA: 6s - loss: 1.0585 - mae: 0.8238"
     ]
    },
    {
     "name": "stderr",
     "output_type": "stream",
     "text": [
      "[codecarbon INFO @ 10:35:40] Energy consumed for RAM : 0.000091 kWh. RAM Power : 5.944325923919678 W\n",
      "[codecarbon INFO @ 10:35:40] Energy consumed for all CPUs : 0.000214 kWh. Total CPU Power : 14.0 W\n",
      "[codecarbon INFO @ 10:35:40] 0.000305 kWh of electricity used since the beginning.\n"
     ]
    },
    {
     "name": "stdout",
     "output_type": "stream",
     "text": [
      "14567/14825 [============================>.] - ETA: 1s - loss: 1.0070 - mae: 0.8038"
     ]
    },
    {
     "name": "stderr",
     "output_type": "stream",
     "text": [
      "[codecarbon INFO @ 10:35:45] Energy consumed for RAM : 0.000099 kWh. RAM Power : 5.944325923919678 W\n",
      "[codecarbon INFO @ 10:35:45] Energy consumed for all CPUs : 0.000234 kWh. Total CPU Power : 14.0 W\n",
      "[codecarbon INFO @ 10:35:45] 0.000333 kWh of electricity used since the beginning.\n"
     ]
    },
    {
     "name": "stdout",
     "output_type": "stream",
     "text": [
      "14825/14825 [==============================] - 63s 4ms/step - loss: 1.0060 - mae: 0.8022 - val_loss: 1205.8893 - val_mae: 34.6823 - lr: 0.0010\n",
      "Epoch 2/30\n",
      "  379/14825 [..............................] - ETA: 49s - loss: 2.4444 - mae: 1.2329"
     ]
    },
    {
     "name": "stderr",
     "output_type": "stream",
     "text": [
      "[codecarbon INFO @ 10:35:50] Energy consumed for RAM : 0.000107 kWh. RAM Power : 5.944325923919678 W\n",
      "[codecarbon INFO @ 10:35:50] Energy consumed for all CPUs : 0.000253 kWh. Total CPU Power : 14.0 W\n"
     ]
    },
    {
     "name": "stdout",
     "output_type": "stream",
     "text": [
      "  393/14825 [..............................] - ETA: 50s - loss: 2.5540 - mae: 1.2542"
     ]
    },
    {
     "name": "stderr",
     "output_type": "stream",
     "text": [
      "[codecarbon INFO @ 10:35:50] 0.000361 kWh of electricity used since the beginning.\n"
     ]
    },
    {
     "name": "stdout",
     "output_type": "stream",
     "text": [
      " 1769/14825 [==>...........................] - ETA: 46s - loss: 1.5970 - mae: 1.0182"
     ]
    },
    {
     "name": "stderr",
     "output_type": "stream",
     "text": [
      "[codecarbon INFO @ 10:35:55] Energy consumed for RAM : 0.000115 kWh. RAM Power : 5.944325923919678 W\n",
      "[codecarbon INFO @ 10:35:55] Energy consumed for all CPUs : 0.000273 kWh. Total CPU Power : 14.0 W\n",
      "[codecarbon INFO @ 10:35:55] 0.000388 kWh of electricity used since the beginning.\n"
     ]
    },
    {
     "name": "stdout",
     "output_type": "stream",
     "text": [
      " 3161/14825 [=====>........................] - ETA: 41s - loss: 1.4319 - mae: 0.9476"
     ]
    },
    {
     "name": "stderr",
     "output_type": "stream",
     "text": [
      "[codecarbon INFO @ 10:36:00] Energy consumed for RAM : 0.000124 kWh. RAM Power : 5.944325923919678 W\n"
     ]
    },
    {
     "name": "stdout",
     "output_type": "stream",
     "text": [
      " 3175/14825 [=====>........................] - ETA: 41s - loss: 1.4295 - mae: 0.9470"
     ]
    },
    {
     "name": "stderr",
     "output_type": "stream",
     "text": [
      "[codecarbon INFO @ 10:36:00] Energy consumed for all CPUs : 0.000292 kWh. Total CPU Power : 14.0 W\n",
      "[codecarbon INFO @ 10:36:00] 0.000416 kWh of electricity used since the beginning.\n"
     ]
    },
    {
     "name": "stdout",
     "output_type": "stream",
     "text": [
      " 4277/14825 [=======>......................] - ETA: 40s - loss: 1.4030 - mae: 0.9471"
     ]
    },
    {
     "name": "stderr",
     "output_type": "stream",
     "text": [
      "[codecarbon INFO @ 10:36:05] Energy consumed for RAM : 0.000132 kWh. RAM Power : 5.944325923919678 W\n"
     ]
    },
    {
     "name": "stdout",
     "output_type": "stream",
     "text": [
      " 4286/14825 [=======>......................] - ETA: 40s - loss: 1.4027 - mae: 0.9472"
     ]
    },
    {
     "name": "stderr",
     "output_type": "stream",
     "text": [
      "[codecarbon INFO @ 10:36:05] Energy consumed for all CPUs : 0.000312 kWh. Total CPU Power : 14.0 W\n",
      "[codecarbon INFO @ 10:36:05] 0.000444 kWh of electricity used since the beginning.\n",
      "[codecarbon INFO @ 10:36:05] 0.000310 g.CO2eq/s mean an estimation of 9.772360500494232 kg.CO2eq/year\n"
     ]
    },
    {
     "name": "stdout",
     "output_type": "stream",
     "text": [
      " 5582/14825 [==========>...................] - ETA: 35s - loss: 1.3322 - mae: 0.9294"
     ]
    },
    {
     "name": "stderr",
     "output_type": "stream",
     "text": [
      "[codecarbon INFO @ 10:36:10] Energy consumed for RAM : 0.000140 kWh. RAM Power : 5.944325923919678 W\n",
      "[codecarbon INFO @ 10:36:10] Energy consumed for all CPUs : 0.000331 kWh. Total CPU Power : 14.0 W\n",
      "[codecarbon INFO @ 10:36:10] 0.000471 kWh of electricity used since the beginning.\n"
     ]
    },
    {
     "name": "stdout",
     "output_type": "stream",
     "text": [
      " 6787/14825 [============>.................] - ETA: 31s - loss: 1.2663 - mae: 0.9081"
     ]
    },
    {
     "name": "stderr",
     "output_type": "stream",
     "text": [
      "[codecarbon INFO @ 10:36:15] Energy consumed for RAM : 0.000148 kWh. RAM Power : 5.944325923919678 W\n",
      "[codecarbon INFO @ 10:36:15] Energy consumed for all CPUs : 0.000351 kWh. Total CPU Power : 14.0 W\n",
      "[codecarbon INFO @ 10:36:15] 0.000499 kWh of electricity used since the beginning.\n"
     ]
    },
    {
     "name": "stdout",
     "output_type": "stream",
     "text": [
      " 7906/14825 [==============>...............] - ETA: 27s - loss: 1.2084 - mae: 0.8869"
     ]
    },
    {
     "name": "stderr",
     "output_type": "stream",
     "text": [
      "[codecarbon INFO @ 10:36:20] Energy consumed for RAM : 0.000157 kWh. RAM Power : 5.944325923919678 W\n",
      "[codecarbon INFO @ 10:36:20] Energy consumed for all CPUs : 0.000370 kWh. Total CPU Power : 14.0 W\n",
      "[codecarbon INFO @ 10:36:20] 0.000527 kWh of electricity used since the beginning.\n"
     ]
    },
    {
     "name": "stdout",
     "output_type": "stream",
     "text": [
      " 9031/14825 [=================>............] - ETA: 23s - loss: 1.1670 - mae: 0.8706"
     ]
    },
    {
     "name": "stderr",
     "output_type": "stream",
     "text": [
      "[codecarbon INFO @ 10:36:25] Energy consumed for RAM : 0.000165 kWh. RAM Power : 5.944325923919678 W\n",
      "[codecarbon INFO @ 10:36:25] Energy consumed for all CPUs : 0.000390 kWh. Total CPU Power : 14.0 W\n",
      "[codecarbon INFO @ 10:36:25] 0.000555 kWh of electricity used since the beginning.\n"
     ]
    },
    {
     "name": "stdout",
     "output_type": "stream",
     "text": [
      "10306/14825 [===================>..........] - ETA: 18s - loss: 1.1198 - mae: 0.8530"
     ]
    },
    {
     "name": "stderr",
     "output_type": "stream",
     "text": [
      "[codecarbon INFO @ 10:36:30] Energy consumed for RAM : 0.000173 kWh. RAM Power : 5.944325923919678 W\n",
      "[codecarbon INFO @ 10:36:30] Energy consumed for all CPUs : 0.000409 kWh. Total CPU Power : 14.0 W\n",
      "[codecarbon INFO @ 10:36:30] 0.000582 kWh of electricity used since the beginning.\n"
     ]
    },
    {
     "name": "stdout",
     "output_type": "stream",
     "text": [
      "11581/14825 [======================>.......] - ETA: 13s - loss: 1.0884 - mae: 0.8405"
     ]
    },
    {
     "name": "stderr",
     "output_type": "stream",
     "text": [
      "[codecarbon INFO @ 10:36:35] Energy consumed for RAM : 0.000181 kWh. RAM Power : 5.944325923919678 W\n",
      "[codecarbon INFO @ 10:36:35] Energy consumed for all CPUs : 0.000429 kWh. Total CPU Power : 14.0 W\n",
      "[codecarbon INFO @ 10:36:35] 0.000610 kWh of electricity used since the beginning.\n"
     ]
    },
    {
     "name": "stdout",
     "output_type": "stream",
     "text": [
      "12698/14825 [========================>.....] - ETA: 8s - loss: 1.0393 - mae: 0.8202"
     ]
    },
    {
     "name": "stderr",
     "output_type": "stream",
     "text": [
      "[codecarbon INFO @ 10:36:40] Energy consumed for RAM : 0.000190 kWh. RAM Power : 5.944325923919678 W\n",
      "[codecarbon INFO @ 10:36:40] Energy consumed for all CPUs : 0.000448 kWh. Total CPU Power : 14.0 W\n"
     ]
    },
    {
     "name": "stdout",
     "output_type": "stream",
     "text": [
      "12708/14825 [========================>.....] - ETA: 8s - loss: 1.0387 - mae: 0.8199"
     ]
    },
    {
     "name": "stderr",
     "output_type": "stream",
     "text": [
      "[codecarbon INFO @ 10:36:40] 0.000638 kWh of electricity used since the beginning.\n"
     ]
    },
    {
     "name": "stdout",
     "output_type": "stream",
     "text": [
      "13832/14825 [==========================>...] - ETA: 4s - loss: 0.9955 - mae: 0.8018"
     ]
    },
    {
     "name": "stderr",
     "output_type": "stream",
     "text": [
      "[codecarbon INFO @ 10:36:45] Energy consumed for RAM : 0.000198 kWh. RAM Power : 5.944325923919678 W\n",
      "[codecarbon INFO @ 10:36:45] Energy consumed for all CPUs : 0.000468 kWh. Total CPU Power : 14.0 W\n",
      "[codecarbon INFO @ 10:36:45] 0.000665 kWh of electricity used since the beginning.\n"
     ]
    },
    {
     "name": "stdout",
     "output_type": "stream",
     "text": [
      "13841/14825 [===========================>..] - ETA: 4s - loss: 0.9953 - mae: 0.8018"
     ]
    },
    {
     "name": "stderr",
     "output_type": "stream",
     "text": [
      "[codecarbon INFO @ 10:36:45] 0.000310 g.CO2eq/s mean an estimation of 9.768880019941143 kg.CO2eq/year\n"
     ]
    },
    {
     "name": "stdout",
     "output_type": "stream",
     "text": [
      "14817/14825 [============================>.] - ETA: 0s - loss: 0.9710 - mae: 0.7915"
     ]
    },
    {
     "name": "stderr",
     "output_type": "stream",
     "text": [
      "[codecarbon INFO @ 10:36:50] Energy consumed for RAM : 0.000206 kWh. RAM Power : 5.944325923919678 W\n",
      "[codecarbon INFO @ 10:36:50] Energy consumed for all CPUs : 0.000487 kWh. Total CPU Power : 14.0 W\n",
      "[codecarbon INFO @ 10:36:50] 0.000693 kWh of electricity used since the beginning.\n"
     ]
    },
    {
     "name": "stdout",
     "output_type": "stream",
     "text": [
      "14825/14825 [==============================] - 64s 4ms/step - loss: 0.9725 - mae: 0.7920 - val_loss: 5083.3784 - val_mae: 71.2925 - lr: 0.0010\n",
      "Epoch 3/30\n",
      "  348/14825 [..............................] - ETA: 1:23 - loss: 1.9689 - mae: 1.1504"
     ]
    },
    {
     "name": "stderr",
     "output_type": "stream",
     "text": [
      "[codecarbon INFO @ 10:36:55] Energy consumed for RAM : 0.000214 kWh. RAM Power : 5.944325923919678 W\n",
      "[codecarbon INFO @ 10:36:55] Energy consumed for all CPUs : 0.000506 kWh. Total CPU Power : 14.0 W\n",
      "[codecarbon INFO @ 10:36:55] 0.000721 kWh of electricity used since the beginning.\n"
     ]
    },
    {
     "name": "stdout",
     "output_type": "stream",
     "text": [
      " 1379/14825 [=>............................] - ETA: 1:08 - loss: 1.7884 - mae: 1.0890"
     ]
    },
    {
     "name": "stderr",
     "output_type": "stream",
     "text": [
      "[codecarbon INFO @ 10:37:00] Energy consumed for RAM : 0.000222 kWh. RAM Power : 5.944325923919678 W\n",
      "[codecarbon INFO @ 10:37:00] Energy consumed for all CPUs : 0.000526 kWh. Total CPU Power : 14.0 W\n"
     ]
    },
    {
     "name": "stdout",
     "output_type": "stream",
     "text": [
      " 1391/14825 [=>............................] - ETA: 1:08 - loss: 1.7801 - mae: 1.0862"
     ]
    },
    {
     "name": "stderr",
     "output_type": "stream",
     "text": [
      "[codecarbon INFO @ 10:37:00] 0.000748 kWh of electricity used since the beginning.\n"
     ]
    },
    {
     "name": "stdout",
     "output_type": "stream",
     "text": [
      " 2656/14825 [====>.........................] - ETA: 55s - loss: 1.4733 - mae: 0.9575"
     ]
    },
    {
     "name": "stderr",
     "output_type": "stream",
     "text": [
      "[codecarbon INFO @ 10:37:05] Energy consumed for RAM : 0.000231 kWh. RAM Power : 5.944325923919678 W\n",
      "[codecarbon INFO @ 10:37:05] Energy consumed for all CPUs : 0.000545 kWh. Total CPU Power : 14.0 W\n",
      "[codecarbon INFO @ 10:37:05] 0.000776 kWh of electricity used since the beginning.\n"
     ]
    },
    {
     "name": "stdout",
     "output_type": "stream",
     "text": [
      " 3891/14825 [======>.......................] - ETA: 47s - loss: 1.4057 - mae: 0.9458"
     ]
    },
    {
     "name": "stderr",
     "output_type": "stream",
     "text": [
      "[codecarbon INFO @ 10:37:10] Energy consumed for RAM : 0.000239 kWh. RAM Power : 5.944325923919678 W\n",
      "[codecarbon INFO @ 10:37:10] Energy consumed for all CPUs : 0.000565 kWh. Total CPU Power : 14.0 W\n",
      "[codecarbon INFO @ 10:37:10] 0.000804 kWh of electricity used since the beginning.\n"
     ]
    },
    {
     "name": "stdout",
     "output_type": "stream",
     "text": [
      " 5094/14825 [=========>....................] - ETA: 42s - loss: 1.3563 - mae: 0.9349"
     ]
    },
    {
     "name": "stderr",
     "output_type": "stream",
     "text": [
      "[codecarbon INFO @ 10:37:15] Energy consumed for RAM : 0.000247 kWh. RAM Power : 5.944325923919678 W\n",
      "[codecarbon INFO @ 10:37:15] Energy consumed for all CPUs : 0.000584 kWh. Total CPU Power : 14.0 W\n",
      "[codecarbon INFO @ 10:37:15] 0.000831 kWh of electricity used since the beginning.\n"
     ]
    },
    {
     "name": "stdout",
     "output_type": "stream",
     "text": [
      " 6343/14825 [===========>..................] - ETA: 36s - loss: 1.2953 - mae: 0.9174"
     ]
    },
    {
     "name": "stderr",
     "output_type": "stream",
     "text": [
      "[codecarbon INFO @ 10:37:20] Energy consumed for RAM : 0.000255 kWh. RAM Power : 5.944325923919678 W\n",
      "[codecarbon INFO @ 10:37:20] Energy consumed for all CPUs : 0.000604 kWh. Total CPU Power : 14.0 W\n",
      "[codecarbon INFO @ 10:37:20] 0.000859 kWh of electricity used since the beginning.\n"
     ]
    },
    {
     "name": "stdout",
     "output_type": "stream",
     "text": [
      " 7579/14825 [==============>...............] - ETA: 30s - loss: 1.2228 - mae: 0.8918"
     ]
    },
    {
     "name": "stderr",
     "output_type": "stream",
     "text": [
      "[codecarbon INFO @ 10:37:25] Energy consumed for RAM : 0.000264 kWh. RAM Power : 5.944325923919678 W\n",
      "[codecarbon INFO @ 10:37:25] Energy consumed for all CPUs : 0.000623 kWh. Total CPU Power : 14.0 W\n",
      "[codecarbon INFO @ 10:37:25] 0.000887 kWh of electricity used since the beginning.\n"
     ]
    },
    {
     "name": "stdout",
     "output_type": "stream",
     "text": [
      " 7588/14825 [==============>...............] - ETA: 30s - loss: 1.2219 - mae: 0.8915"
     ]
    },
    {
     "name": "stderr",
     "output_type": "stream",
     "text": [
      "[codecarbon INFO @ 10:37:25] 0.000310 g.CO2eq/s mean an estimation of 9.771837766800935 kg.CO2eq/year\n"
     ]
    },
    {
     "name": "stdout",
     "output_type": "stream",
     "text": [
      " 8747/14825 [================>.............] - ETA: 25s - loss: 1.1746 - mae: 0.8735"
     ]
    },
    {
     "name": "stderr",
     "output_type": "stream",
     "text": [
      "[codecarbon INFO @ 10:37:30] Energy consumed for RAM : 0.000272 kWh. RAM Power : 5.944325923919678 W\n",
      "[codecarbon INFO @ 10:37:30] Energy consumed for all CPUs : 0.000643 kWh. Total CPU Power : 14.0 W\n",
      "[codecarbon INFO @ 10:37:30] 0.000915 kWh of electricity used since the beginning.\n"
     ]
    },
    {
     "name": "stdout",
     "output_type": "stream",
     "text": [
      "10036/14825 [===================>..........] - ETA: 20s - loss: 1.1277 - mae: 0.8552"
     ]
    },
    {
     "name": "stderr",
     "output_type": "stream",
     "text": [
      "[codecarbon INFO @ 10:37:35] Energy consumed for RAM : 0.000280 kWh. RAM Power : 5.944325923919678 W\n"
     ]
    },
    {
     "name": "stdout",
     "output_type": "stream",
     "text": [
      "10047/14825 [===================>..........] - ETA: 20s - loss: 1.1275 - mae: 0.8552"
     ]
    },
    {
     "name": "stderr",
     "output_type": "stream",
     "text": [
      "[codecarbon INFO @ 10:37:35] Energy consumed for all CPUs : 0.000662 kWh. Total CPU Power : 14.0 W\n",
      "[codecarbon INFO @ 10:37:35] 0.000942 kWh of electricity used since the beginning.\n"
     ]
    },
    {
     "name": "stdout",
     "output_type": "stream",
     "text": [
      "11349/14825 [=====================>........] - ETA: 14s - loss: 1.1008 - mae: 0.8451"
     ]
    },
    {
     "name": "stderr",
     "output_type": "stream",
     "text": [
      "[codecarbon INFO @ 10:37:40] Energy consumed for RAM : 0.000288 kWh. RAM Power : 5.944325923919678 W\n",
      "[codecarbon INFO @ 10:37:40] Energy consumed for all CPUs : 0.000682 kWh. Total CPU Power : 14.0 W\n",
      "[codecarbon INFO @ 10:37:40] 0.000970 kWh of electricity used since the beginning.\n"
     ]
    },
    {
     "name": "stdout",
     "output_type": "stream",
     "text": [
      "12592/14825 [========================>.....] - ETA: 9s - loss: 1.0437 - mae: 0.8213"
     ]
    },
    {
     "name": "stderr",
     "output_type": "stream",
     "text": [
      "[codecarbon INFO @ 10:37:45] Energy consumed for RAM : 0.000297 kWh. RAM Power : 5.944325923919678 W\n"
     ]
    },
    {
     "name": "stdout",
     "output_type": "stream",
     "text": [
      "12603/14825 [========================>.....] - ETA: 9s - loss: 1.0432 - mae: 0.8211"
     ]
    },
    {
     "name": "stderr",
     "output_type": "stream",
     "text": [
      "[codecarbon INFO @ 10:37:45] Energy consumed for all CPUs : 0.000701 kWh. Total CPU Power : 14.0 W\n",
      "[codecarbon INFO @ 10:37:45] 0.000998 kWh of electricity used since the beginning.\n"
     ]
    },
    {
     "name": "stdout",
     "output_type": "stream",
     "text": [
      "13752/14825 [==========================>...] - ETA: 4s - loss: 0.9992 - mae: 0.8028"
     ]
    },
    {
     "name": "stderr",
     "output_type": "stream",
     "text": [
      "[codecarbon INFO @ 10:37:50] Energy consumed for RAM : 0.000305 kWh. RAM Power : 5.944325923919678 W\n",
      "[codecarbon INFO @ 10:37:50] Energy consumed for all CPUs : 0.000720 kWh. Total CPU Power : 14.0 W\n"
     ]
    },
    {
     "name": "stdout",
     "output_type": "stream",
     "text": [
      "13764/14825 [==========================>...] - ETA: 4s - loss: 0.9987 - mae: 0.8026"
     ]
    },
    {
     "name": "stderr",
     "output_type": "stream",
     "text": [
      "[codecarbon INFO @ 10:37:50] 0.001025 kWh of electricity used since the beginning.\n"
     ]
    },
    {
     "name": "stdout",
     "output_type": "stream",
     "text": [
      "14817/14825 [============================>.] - ETA: 0s - loss: 0.9712 - mae: 0.7908"
     ]
    },
    {
     "name": "stderr",
     "output_type": "stream",
     "text": [
      "[codecarbon INFO @ 10:37:55] Energy consumed for RAM : 0.000313 kWh. RAM Power : 5.944325923919678 W\n",
      "[codecarbon INFO @ 10:37:55] Energy consumed for all CPUs : 0.000740 kWh. Total CPU Power : 14.0 W\n",
      "[codecarbon INFO @ 10:37:55] 0.001053 kWh of electricity used since the beginning.\n"
     ]
    },
    {
     "name": "stdout",
     "output_type": "stream",
     "text": [
      "14825/14825 [==============================] - 64s 4ms/step - loss: 0.9727 - mae: 0.7912 - val_loss: 440247.4062 - val_mae: 663.5103 - lr: 0.0010\n",
      "Epoch 4/30\n",
      "  782/14825 [>.............................] - ETA: 56s - loss: 2.2119 - mae: 1.1703"
     ]
    },
    {
     "name": "stderr",
     "output_type": "stream",
     "text": [
      "[codecarbon INFO @ 10:38:00] Energy consumed for RAM : 0.000321 kWh. RAM Power : 5.944325923919678 W\n",
      "[codecarbon INFO @ 10:38:00] Energy consumed for all CPUs : 0.000759 kWh. Total CPU Power : 14.0 W\n"
     ]
    },
    {
     "name": "stdout",
     "output_type": "stream",
     "text": [
      "  795/14825 [>.............................] - ETA: 56s - loss: 2.2156 - mae: 1.1730"
     ]
    },
    {
     "name": "stderr",
     "output_type": "stream",
     "text": [
      "[codecarbon INFO @ 10:38:00] 0.001081 kWh of electricity used since the beginning.\n"
     ]
    },
    {
     "name": "stdout",
     "output_type": "stream",
     "text": [
      " 2080/14825 [===>..........................] - ETA: 50s - loss: 1.5613 - mae: 0.9978"
     ]
    },
    {
     "name": "stderr",
     "output_type": "stream",
     "text": [
      "[codecarbon INFO @ 10:38:05] Energy consumed for RAM : 0.000330 kWh. RAM Power : 5.944325923919678 W\n",
      "[codecarbon INFO @ 10:38:06] Energy consumed for all CPUs : 0.000779 kWh. Total CPU Power : 14.0 W\n",
      "[codecarbon INFO @ 10:38:06] 0.001108 kWh of electricity used since the beginning.\n",
      "[codecarbon INFO @ 10:38:06] 0.000310 g.CO2eq/s mean an estimation of 9.772374797669789 kg.CO2eq/year\n"
     ]
    },
    {
     "name": "stdout",
     "output_type": "stream",
     "text": [
      " 3262/14825 [=====>........................] - ETA: 46s - loss: 1.4547 - mae: 0.9519"
     ]
    },
    {
     "name": "stderr",
     "output_type": "stream",
     "text": [
      "[codecarbon INFO @ 10:38:11] Energy consumed for RAM : 0.000338 kWh. RAM Power : 5.944325923919678 W\n",
      "[codecarbon INFO @ 10:38:11] Energy consumed for all CPUs : 0.000798 kWh. Total CPU Power : 14.0 W\n",
      "[codecarbon INFO @ 10:38:11] 0.001136 kWh of electricity used since the beginning.\n"
     ]
    },
    {
     "name": "stdout",
     "output_type": "stream",
     "text": [
      " 4434/14825 [=======>......................] - ETA: 42s - loss: 1.4135 - mae: 0.9459"
     ]
    },
    {
     "name": "stderr",
     "output_type": "stream",
     "text": [
      "[codecarbon INFO @ 10:38:16] Energy consumed for RAM : 0.000346 kWh. RAM Power : 5.944325923919678 W\n",
      "[codecarbon INFO @ 10:38:16] Energy consumed for all CPUs : 0.000818 kWh. Total CPU Power : 14.0 W\n",
      "[codecarbon INFO @ 10:38:16] 0.001164 kWh of electricity used since the beginning.\n"
     ]
    },
    {
     "name": "stdout",
     "output_type": "stream",
     "text": [
      " 5442/14825 [==========>...................] - ETA: 40s - loss: 1.3548 - mae: 0.9303"
     ]
    },
    {
     "name": "stderr",
     "output_type": "stream",
     "text": [
      "[codecarbon INFO @ 10:38:21] Energy consumed for RAM : 0.000354 kWh. RAM Power : 5.944325923919678 W\n",
      "[codecarbon INFO @ 10:38:21] Energy consumed for all CPUs : 0.000837 kWh. Total CPU Power : 14.0 W\n",
      "[codecarbon INFO @ 10:38:21] 0.001192 kWh of electricity used since the beginning.\n"
     ]
    },
    {
     "name": "stdout",
     "output_type": "stream",
     "text": [
      " 6385/14825 [===========>..................] - ETA: 37s - loss: 1.3085 - mae: 0.9183"
     ]
    },
    {
     "name": "stderr",
     "output_type": "stream",
     "text": [
      "[codecarbon INFO @ 10:38:26] Energy consumed for RAM : 0.000362 kWh. RAM Power : 5.944325923919678 W\n",
      "[codecarbon INFO @ 10:38:26] Energy consumed for all CPUs : 0.000857 kWh. Total CPU Power : 14.0 W\n",
      "[codecarbon INFO @ 10:38:26] 0.001219 kWh of electricity used since the beginning.\n"
     ]
    },
    {
     "name": "stdout",
     "output_type": "stream",
     "text": [
      " 7202/14825 [=============>................] - ETA: 35s - loss: 1.2558 - mae: 0.9002"
     ]
    },
    {
     "name": "stderr",
     "output_type": "stream",
     "text": [
      "[codecarbon INFO @ 10:38:31] Energy consumed for RAM : 0.000371 kWh. RAM Power : 5.944325923919678 W\n",
      "[codecarbon INFO @ 10:38:31] Energy consumed for all CPUs : 0.000876 kWh. Total CPU Power : 14.0 W\n",
      "[codecarbon INFO @ 10:38:31] 0.001247 kWh of electricity used since the beginning.\n"
     ]
    },
    {
     "name": "stdout",
     "output_type": "stream",
     "text": [
      " 8287/14825 [===============>..............] - ETA: 30s - loss: 1.2109 - mae: 0.8851"
     ]
    },
    {
     "name": "stderr",
     "output_type": "stream",
     "text": [
      "[codecarbon INFO @ 10:38:36] Energy consumed for RAM : 0.000379 kWh. RAM Power : 5.944325923919678 W\n",
      "[codecarbon INFO @ 10:38:36] Energy consumed for all CPUs : 0.000896 kWh. Total CPU Power : 14.0 W\n",
      "[codecarbon INFO @ 10:38:36] 0.001275 kWh of electricity used since the beginning.\n"
     ]
    },
    {
     "name": "stdout",
     "output_type": "stream",
     "text": [
      " 9420/14825 [==================>...........] - ETA: 24s - loss: 1.1657 - mae: 0.8676"
     ]
    },
    {
     "name": "stderr",
     "output_type": "stream",
     "text": [
      "[codecarbon INFO @ 10:38:41] Energy consumed for RAM : 0.000387 kWh. RAM Power : 5.944325923919678 W\n",
      "[codecarbon INFO @ 10:38:41] Energy consumed for all CPUs : 0.000915 kWh. Total CPU Power : 14.0 W\n",
      "[codecarbon INFO @ 10:38:41] 0.001302 kWh of electricity used since the beginning.\n"
     ]
    },
    {
     "name": "stdout",
     "output_type": "stream",
     "text": [
      "11007/14825 [=====================>........] - ETA: 16s - loss: 1.1305 - mae: 0.8554"
     ]
    },
    {
     "name": "stderr",
     "output_type": "stream",
     "text": [
      "[codecarbon INFO @ 10:38:46] Energy consumed for RAM : 0.000395 kWh. RAM Power : 5.944325923919678 W\n",
      "[codecarbon INFO @ 10:38:46] Energy consumed for all CPUs : 0.000935 kWh. Total CPU Power : 14.0 W\n",
      "[codecarbon INFO @ 10:38:46] 0.001330 kWh of electricity used since the beginning.\n"
     ]
    },
    {
     "name": "stdout",
     "output_type": "stream",
     "text": [
      "11018/14825 [=====================>........] - ETA: 16s - loss: 1.1303 - mae: 0.8554"
     ]
    },
    {
     "name": "stderr",
     "output_type": "stream",
     "text": [
      "[codecarbon INFO @ 10:38:46] 0.000310 g.CO2eq/s mean an estimation of 9.77021719062479 kg.CO2eq/year\n"
     ]
    },
    {
     "name": "stdout",
     "output_type": "stream",
     "text": [
      "12642/14825 [========================>.....] - ETA: 9s - loss: 1.0553 - mae: 0.8259"
     ]
    },
    {
     "name": "stderr",
     "output_type": "stream",
     "text": [
      "[codecarbon INFO @ 10:38:51] Energy consumed for RAM : 0.000404 kWh. RAM Power : 5.944325923919678 W\n"
     ]
    },
    {
     "name": "stdout",
     "output_type": "stream",
     "text": [
      "12659/14825 [========================>.....] - ETA: 9s - loss: 1.0552 - mae: 0.8260"
     ]
    },
    {
     "name": "stderr",
     "output_type": "stream",
     "text": [
      "[codecarbon INFO @ 10:38:51] Energy consumed for all CPUs : 0.000954 kWh. Total CPU Power : 14.0 W\n",
      "[codecarbon INFO @ 10:38:51] 0.001358 kWh of electricity used since the beginning.\n"
     ]
    },
    {
     "name": "stdout",
     "output_type": "stream",
     "text": [
      "14201/14825 [===========================>..] - ETA: 2s - loss: 0.9992 - mae: 0.8039"
     ]
    },
    {
     "name": "stderr",
     "output_type": "stream",
     "text": [
      "[codecarbon INFO @ 10:38:56] Energy consumed for RAM : 0.000412 kWh. RAM Power : 5.944325923919678 W\n"
     ]
    },
    {
     "name": "stdout",
     "output_type": "stream",
     "text": [
      "14217/14825 [===========================>..] - ETA: 2s - loss: 0.9987 - mae: 0.8038"
     ]
    },
    {
     "name": "stderr",
     "output_type": "stream",
     "text": [
      "[codecarbon INFO @ 10:38:56] Energy consumed for all CPUs : 0.000973 kWh. Total CPU Power : 14.0 W\n",
      "[codecarbon INFO @ 10:38:56] 0.001385 kWh of electricity used since the beginning.\n"
     ]
    },
    {
     "name": "stdout",
     "output_type": "stream",
     "text": [
      "14825/14825 [==============================] - 63s 4ms/step - loss: 0.9862 - mae: 0.7978 - val_loss: 5187.2852 - val_mae: 72.0174 - lr: 2.0000e-04\n"
     ]
    },
    {
     "name": "stderr",
     "output_type": "stream",
     "text": [
      "[codecarbon INFO @ 10:39:00] Energy consumed for RAM : 0.000419 kWh. RAM Power : 5.944325923919678 W\n",
      "[codecarbon INFO @ 10:39:00] Energy consumed for all CPUs : 0.000990 kWh. Total CPU Power : 14.0 W\n",
      "[codecarbon INFO @ 10:39:00] 0.001409 kWh of electricity used since the beginning.\n"
     ]
    },
    {
     "data": {
      "text/plain": [
       "7.894356300156256e-05"
      ]
     },
     "execution_count": 40,
     "metadata": {},
     "output_type": "execute_result"
    }
   ],
   "source": [
    "\n",
    "from tensorflow.keras import callbacks\n",
    "print(\"Training the model...\")\n",
    "callbacks = [\n",
    "    callbacks.EarlyStopping(\n",
    "        monitor='val_loss',\n",
    "        patience=3,\n",
    "        restore_best_weights=True,\n",
    "        min_delta=0.001\n",
    "    ),\n",
    "    callbacks.ReduceLROnPlateau(\n",
    "        monitor='val_loss',\n",
    "        factor=0.2,\n",
    "        patience=2,\n",
    "        min_lr=1e-6\n",
    "    )\n",
    "]\n",
    "tracker.start()\n",
    "history = model.fit(\n",
    "    X_train_seq,\n",
    "    y_train_seq,\n",
    "    validation_data=(X_val, y_val),\n",
    "    epochs=30,\n",
    "    batch_size=64,\n",
    "    shuffle=False,\n",
    "    callbacks=[callbacks] \n",
    ")\n",
    "\n",
    "tracker.stop()\n"
   ]
  },
  {
   "cell_type": "code",
   "execution_count": 41,
   "metadata": {},
   "outputs": [
    {
     "data": {
      "image/png": "[encoded data removed]",
      "text/plain": [
       "<Figure size 640x480 with 1 Axes>"
      ]
     },
     "metadata": {},
     "output_type": "display_data"
    }
   ],
   "source": [
    "plt.plot(history.history['loss'], label='Training Loss')\n",
    "plt.plot(history.history['val_loss'], label='Validation Loss')\n",
    "plt.xlabel('Epochs')\n",
    "plt.ylabel('Loss')\n",
    "plt.legend()\n",
    "plt.title('Training vs Validation Loss')\n",
    "plt.show()"
   ]
  },
  {
   "cell_type": "code",
   "execution_count": 42,
   "metadata": {},
   "outputs": [
    {
     "name": "stdout",
     "output_type": "stream",
     "text": [
      "4427/4427 [==============================] - 8s 2ms/step\n",
      "Le taux de précision correctes de test avec tolerance=0: 0.00%\n",
      "Le taux de précision correctes de test avec tolerance=1: 0.00%\n",
      "Le taux de précision correctes de test avec tolerance=2: 0.00%\n",
      "MSE: 1198.3273, MAE: 34.5657, R²: -979.2918\n"
     ]
    }
   ],
   "source": [
    "def taux_correct_predictions(y_test,y_pred,tolerance):\n",
    "    correct_predictions = np.abs(y_test - y_pred) <= tolerance\n",
    "    accuracy = np.mean(correct_predictions) * 100  \n",
    "    print(f\"Le taux de précision correctes de test avec tolerance={tolerance}: {accuracy:.2f}%\")\n",
    "predictions = model.predict(X_test_seq)\n",
    "predictions = np.round(predictions).astype(int)\n",
    "# Calcul des métriques pour l'ensemble de test\n",
    "mse = mean_squared_error(y_test_seq, predictions)\n",
    "mae = mean_absolute_error(y_test_seq, predictions)\n",
    "r2 = r2_score(y_test_seq, predictions)\n",
    "y_test = scaler_y.inverse_transform(y_test_seq.reshape(-1, 1)).flatten()\n",
    "predictions = scaler_y.inverse_transform(predictions.reshape(-1, 1)).flatten()\n",
    "\n",
    "taux_correct_predictions(y_test,predictions,0)\n",
    "taux_correct_predictions(y_test,predictions,1)\n",
    "taux_correct_predictions(y_test,predictions,2)\n",
    "\n",
    "print(f\"MSE: {mse:.4f}, MAE: {mae:.4f}, R²: {r2:.4f}\")"
   ]
  },
  {
   "cell_type": "code",
   "execution_count": 44,
   "metadata": {},
   "outputs": [
    {
     "data": {
      "image/png": "[encoded data removed]",
      "text/plain": [
       "<Figure size 1200x600 with 1 Axes>"
      ]
     },
     "metadata": {},
     "output_type": "display_data"
    }
   ],
   "source": [
    "plt.figure(figsize=(12, 6))\n",
    "plt.plot(y_test, label='Actual')\n",
    "plt.plot(predictions, label='Predicted')\n",
    "plt.title('Actual vs Predicted Values (First 1000 samples)')\n",
    "plt.xlabel('Sample')\n",
    "plt.ylabel('Normalized Available Bikes')\n",
    "plt.legend()\n",
    "plt.show()"
   ]
  },
  {
   "cell_type": "code",
   "execution_count": null,
   "metadata": {},
   "outputs": [],
   "source": []
  },
  {
   "cell_type": "code",
   "execution_count": null,
   "metadata": {},
   "outputs": [],
   "source": []
  }
 ],
 "metadata": {
  "kernelspec": {
   "display_name": "envCnn",
   "language": "python",
   "name": "python3"
  },
  "language_info": {
   "codemirror_mode": {
    "name": "ipython",
    "version": 3
   },
   "file_extension": ".py",
   "mimetype": "text/x-python",
   "name": "python",
   "nbconvert_exporter": "python",
   "pygments_lexer": "ipython3",
   "version": "3.8.5"
  }
 },
 "nbformat": 4,
 "nbformat_minor": 2
}
