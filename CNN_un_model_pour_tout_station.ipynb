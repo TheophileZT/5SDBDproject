{
 "cells": [
  {
   "cell_type": "markdown",
   "metadata": {},
   "source": [
    "## CNN pour tout station"
   ]
  },
  {
   "cell_type": "code",
   "execution_count": 4,
   "metadata": {},
   "outputs": [],
   "source": [
    "import pandas as pd\n",
    "import numpy as np\n",
    "from sklearn.model_selection import train_test_split\n",
    "from sklearn.preprocessing import MinMaxScaler\n",
    "from sklearn.metrics import  mean_absolute_error, mean_squared_error, r2_score\n",
    "from tensorflow.keras import layers ,optimizers,models,regularizers\n",
    "import matplotlib.pyplot as plt\n",
    "from sklearn.discriminant_analysis import StandardScaler\n",
    "import matplotlib.pyplot as plt\n",
    "import seaborn as sns\n",
    "from sklearn.model_selection import KFold"
   ]
  },
  {
   "cell_type": "code",
   "execution_count": 5,
   "metadata": {},
   "outputs": [
    {
     "name": "stdout",
     "output_type": "stream",
     "text": [
      "['timestamp', 'number', 'status', 'available_bike_stands', 'available_bikes', 'bike_stands', 'visibility_distance', 'current_temperature', 'feels_like_temperature', 'is_rainy', 'wind_speed', 'counter_events', 'day_of_week', 'is_weekend']\n",
      "['bike_stands', 'available_bike_stands', 'visibility_distance', 'current_temperature', 'feels_like_temperature', 'wind_speed', 'counter_events', 'timestamp', 'number', 'status', 'available_bikes', 'is_rainy', 'day_of_week', 'is_weekend']\n"
     ]
    }
   ],
   "source": [
    "file_path = 'merged_all_bikes_weather_events.csv'\n",
    "data = pd.read_csv(file_path)\n",
    "data['timestamp'] = pd.to_datetime(data['timestamp']).astype('int64') \n",
    "data['day_of_week'] = pd.to_datetime(data['timestamp']).dt.dayofweek\n",
    "data['is_weekend'] = data['day_of_week'].apply(lambda x: 1 if x >= 5 else 0)\n",
    "data=data.sort_values('timestamp')\n",
    "print(data.columns.to_list())\n",
    "feature_to_normaliser=['bike_stands','available_bike_stands', 'visibility_distance', 'current_temperature', 'feels_like_temperature', 'wind_speed', 'counter_events']\n",
    "other_features = [col for col in data.columns if col not in feature_to_normaliser]\n",
    "new_column_order=feature_to_normaliser+other_features\n",
    "data=data[new_column_order]\n",
    "print(data.columns.to_list())\n",
    "num_features_to_normalize=len(feature_to_normaliser)\n"
   ]
  },
  {
   "cell_type": "markdown",
   "metadata": {},
   "source": [
    "Normaliser"
   ]
  },
  {
   "cell_type": "code",
   "execution_count": 6,
   "metadata": {},
   "outputs": [
    {
     "data": {
      "text/html": [
       "<div>\n",
       "<style scoped>\n",
       "    .dataframe tbody tr th:only-of-type {\n",
       "        vertical-align: middle;\n",
       "    }\n",
       "\n",
       "    .dataframe tbody tr th {\n",
       "        vertical-align: top;\n",
       "    }\n",
       "\n",
       "    .dataframe thead th {\n",
       "        text-align: right;\n",
       "    }\n",
       "</style>\n",
       "<table border=\"1\" class=\"dataframe\">\n",
       "  <thead>\n",
       "    <tr style=\"text-align: right;\">\n",
       "      <th></th>\n",
       "      <th>bike_stands</th>\n",
       "      <th>available_bike_stands</th>\n",
       "      <th>visibility_distance</th>\n",
       "      <th>current_temperature</th>\n",
       "      <th>feels_like_temperature</th>\n",
       "      <th>wind_speed</th>\n",
       "      <th>counter_events</th>\n",
       "      <th>timestamp</th>\n",
       "      <th>number</th>\n",
       "      <th>status</th>\n",
       "      <th>available_bikes</th>\n",
       "      <th>is_rainy</th>\n",
       "      <th>day_of_week</th>\n",
       "      <th>is_weekend</th>\n",
       "    </tr>\n",
       "  </thead>\n",
       "  <tbody>\n",
       "    <tr>\n",
       "      <th>0</th>\n",
       "      <td>20</td>\n",
       "      <td>7</td>\n",
       "      <td>10000.0</td>\n",
       "      <td>6.99</td>\n",
       "      <td>6.17</td>\n",
       "      <td>5.54</td>\n",
       "      <td>0</td>\n",
       "      <td>1733940000000000000</td>\n",
       "      <td>259</td>\n",
       "      <td>1</td>\n",
       "      <td>13</td>\n",
       "      <td>0.0</td>\n",
       "      <td>2</td>\n",
       "      <td>0</td>\n",
       "    </tr>\n",
       "    <tr>\n",
       "      <th>870608</th>\n",
       "      <td>16</td>\n",
       "      <td>11</td>\n",
       "      <td>10000.0</td>\n",
       "      <td>6.99</td>\n",
       "      <td>6.17</td>\n",
       "      <td>5.54</td>\n",
       "      <td>0</td>\n",
       "      <td>1733940000000000000</td>\n",
       "      <td>257</td>\n",
       "      <td>1</td>\n",
       "      <td>5</td>\n",
       "      <td>0.0</td>\n",
       "      <td>2</td>\n",
       "      <td>0</td>\n",
       "    </tr>\n",
       "    <tr>\n",
       "      <th>869769</th>\n",
       "      <td>13</td>\n",
       "      <td>2</td>\n",
       "      <td>10000.0</td>\n",
       "      <td>6.99</td>\n",
       "      <td>6.17</td>\n",
       "      <td>5.54</td>\n",
       "      <td>0</td>\n",
       "      <td>1733940000000000000</td>\n",
       "      <td>309</td>\n",
       "      <td>1</td>\n",
       "      <td>10</td>\n",
       "      <td>0.0</td>\n",
       "      <td>2</td>\n",
       "      <td>0</td>\n",
       "    </tr>\n",
       "    <tr>\n",
       "      <th>869768</th>\n",
       "      <td>17</td>\n",
       "      <td>16</td>\n",
       "      <td>10000.0</td>\n",
       "      <td>6.99</td>\n",
       "      <td>6.17</td>\n",
       "      <td>5.54</td>\n",
       "      <td>0</td>\n",
       "      <td>1733940000000000000</td>\n",
       "      <td>207</td>\n",
       "      <td>1</td>\n",
       "      <td>1</td>\n",
       "      <td>0.0</td>\n",
       "      <td>2</td>\n",
       "      <td>0</td>\n",
       "    </tr>\n",
       "    <tr>\n",
       "      <th>868965</th>\n",
       "      <td>22</td>\n",
       "      <td>5</td>\n",
       "      <td>10000.0</td>\n",
       "      <td>6.99</td>\n",
       "      <td>6.17</td>\n",
       "      <td>5.54</td>\n",
       "      <td>0</td>\n",
       "      <td>1733940000000000000</td>\n",
       "      <td>126</td>\n",
       "      <td>1</td>\n",
       "      <td>17</td>\n",
       "      <td>0.0</td>\n",
       "      <td>2</td>\n",
       "      <td>0</td>\n",
       "    </tr>\n",
       "  </tbody>\n",
       "</table>\n",
       "</div>"
      ],
      "text/plain": [
       "        bike_stands  available_bike_stands  visibility_distance  \\\n",
       "0                20                      7              10000.0   \n",
       "870608           16                     11              10000.0   \n",
       "869769           13                      2              10000.0   \n",
       "869768           17                     16              10000.0   \n",
       "868965           22                      5              10000.0   \n",
       "\n",
       "        current_temperature  feels_like_temperature  wind_speed  \\\n",
       "0                      6.99                    6.17        5.54   \n",
       "870608                 6.99                    6.17        5.54   \n",
       "869769                 6.99                    6.17        5.54   \n",
       "869768                 6.99                    6.17        5.54   \n",
       "868965                 6.99                    6.17        5.54   \n",
       "\n",
       "        counter_events            timestamp  number  status  available_bikes  \\\n",
       "0                    0  1733940000000000000     259       1               13   \n",
       "870608               0  1733940000000000000     257       1                5   \n",
       "869769               0  1733940000000000000     309       1               10   \n",
       "869768               0  1733940000000000000     207       1                1   \n",
       "868965               0  1733940000000000000     126       1               17   \n",
       "\n",
       "        is_rainy  day_of_week  is_weekend  \n",
       "0            0.0            2           0  \n",
       "870608       0.0            2           0  \n",
       "869769       0.0            2           0  \n",
       "869768       0.0            2           0  \n",
       "868965       0.0            2           0  "
      ]
     },
     "execution_count": 6,
     "metadata": {},
     "output_type": "execute_result"
    }
   ],
   "source": [
    "### verifier ordonne\n",
    "data[:5]"
   ]
  },
  {
   "cell_type": "code",
   "execution_count": 7,
   "metadata": {},
   "outputs": [
    {
     "name": "stdout",
     "output_type": "stream",
     "text": [
      "\n",
      " x train shape: (950319, 13)\n",
      "\n",
      " x test shape: (237580, 13)\n",
      "\n",
      " y train shape: (950319,)\n",
      "\n",
      " y test shape: (237580,)\n"
     ]
    }
   ],
   "source": [
    "X = data.drop(columns=['available_bikes']).values  \n",
    "y = data['available_bikes'].values \n",
    "## test et train\n",
    "split_index = int(0.8 * len(X))  \n",
    "X_train_raw, X_test_raw = X[:split_index], X[split_index:]\n",
    "y_train_raw, y_test_raw = y[:split_index], y[split_index:]\n",
    "scaler_X = StandardScaler()\n",
    "X_train_to_normalize = X_train_raw[:, :num_features_to_normalize]\n",
    "X_train_not_to_normalize = X_train_raw[:, num_features_to_normalize:]\n",
    "X_train_feature_normalized = scaler_X.fit_transform(X_train_to_normalize)\n",
    "\n",
    "X_test_to_normalize = X_test_raw[:, :num_features_to_normalize]\n",
    "X_test_not_to_normalize = X_test_raw[:, num_features_to_normalize:]\n",
    "X_test_to_feature_normalized = scaler_X.transform(X_test_to_normalize)\n",
    "\n",
    "X_train = np.hstack([X_train_feature_normalized, X_train_not_to_normalize])\n",
    "X_test = np.hstack([X_test_to_feature_normalized, X_test_not_to_normalize])\n",
    "\n",
    "scaler_y = MinMaxScaler()\n",
    "y_train = scaler_y.fit_transform(y_train_raw.reshape(-1, 1)).flatten()\n",
    "y_test = scaler_y.transform(y_test_raw.reshape(-1, 1)).flatten()\n",
    "print(\"\\n x train shape:\",X_train.shape)\n",
    "print(\"\\n x test shape:\",X_test.shape)\n",
    "print(\"\\n y train shape:\",y_train.shape)\n",
    "print(\"\\n y test shape:\",y_test.shape)"
   ]
  },
  {
   "cell_type": "markdown",
   "metadata": {},
   "source": [
    "window glissant"
   ]
  },
  {
   "cell_type": "code",
   "execution_count": 8,
   "metadata": {},
   "outputs": [
    {
     "name": "stdout",
     "output_type": "stream",
     "text": [
      "8\n",
      "[259. 257. 309. ... 265.  65. 396.]\n",
      "382\n"
     ]
    }
   ],
   "source": [
    "station_column_index = list(data.drop(columns='available_bikes').columns).index('number')\n",
    "\n",
    "print(station_column_index)\n",
    "station_ids = X[:, station_column_index]\n",
    "print(station_ids)\n",
    "unique_stations = np.unique(station_ids)\n",
    "print(len(unique_stations))"
   ]
  },
  {
   "cell_type": "code",
   "execution_count": 9,
   "metadata": {},
   "outputs": [
    {
     "name": "stdout",
     "output_type": "stream",
     "text": [
      "\n",
      "train data:\n",
      "X_train_seq shape: (948791, 4, 14)\n",
      "y_train_seq shape: (948791,)\n",
      "station_train_seq shape: (948791,)\n",
      "\n",
      "test data:\n",
      "X_test_seq shape: (236056, 4, 14)\n",
      "y_test_seq shape: (236056,)\n",
      "station_test_seq shape: (236056,)\n"
     ]
    }
   ],
   "source": [
    "def create_sliding_window_grouped(X, y, station_ids, time_steps):\n",
    "    X_seq_all, y_seq_all, station_seq_all = [], [], []\n",
    "    unique_stations = np.unique(station_ids)\n",
    "\n",
    "    for station in unique_stations:\n",
    "        station_indices = np.where(station_ids == station)[0]\n",
    "        X_station = X[station_indices]\n",
    "        y_station = y[station_indices]\n",
    "        for i in range(len(X_station) - time_steps):\n",
    "            X_window = np.hstack([X_station[i:i + time_steps], y_station[i:i + time_steps].reshape(-1, 1)])\n",
    "            X_seq_all.append(X_window)\n",
    "            y_seq_all.append(y_station[i + time_steps])\n",
    "            station_seq_all.append(station)\n",
    "\n",
    "    return np.array(X_seq_all), np.array(y_seq_all), np.array(station_seq_all)\n",
    "time_steps=4\n",
    "X_train_seq, y_train_seq, station_train_seq = create_sliding_window_grouped(X_train, y_train, station_ids[:split_index], time_steps)\n",
    "X_test_seq, y_test_seq, station_test_seq = create_sliding_window_grouped(X_test, y_test, station_ids[split_index:], time_steps)\n",
    "\n",
    "print(\"\\ntrain data:\")\n",
    "print(\"X_train_seq shape:\", X_train_seq.shape)\n",
    "print(\"y_train_seq shape:\", y_train_seq.shape)\n",
    "print(\"station_train_seq shape:\", station_train_seq.shape)\n",
    "\n",
    "print(\"\\ntest data:\")\n",
    "print(\"X_test_seq shape:\", X_test_seq.shape)\n",
    "print(\"y_test_seq shape:\", y_test_seq.shape)\n",
    "print(\"station_test_seq shape:\", station_test_seq.shape)"
   ]
  },
  {
   "cell_type": "markdown",
   "metadata": {},
   "source": [
    "model cnn"
   ]
  },
  {
   "cell_type": "code",
   "execution_count": 10,
   "metadata": {},
   "outputs": [
    {
     "name": "stdout",
     "output_type": "stream",
     "text": [
      "['bike_stands', 'available_bike_stands', 'visibility_distance', 'current_temperature', 'feels_like_temperature', 'wind_speed', 'counter_events', 'timestamp', 'number', 'status', 'is_rainy', 'day_of_week', 'is_weekend']\n",
      "[[ 1.72191139e-01 -1.03536827e+00  6.01042690e-01 -5.99491337e-02\n",
      "   1.07119318e-01 -6.82358561e-01  2.39245755e+00  1.73394090e+18\n",
      "   1.00000000e+00  1.00000000e+00  0.00000000e+00  2.00000000e+00\n",
      "   0.00000000e+00  3.40909091e-01]\n",
      " [ 1.72191139e-01 -8.77475701e-01  6.01042690e-01 -1.34252842e-01\n",
      "  -1.50572189e-02 -6.29059375e-01  2.39245755e+00  1.73394180e+18\n",
      "   1.00000000e+00  1.00000000e+00  0.00000000e+00  2.00000000e+00\n",
      "   0.00000000e+00  2.95454545e-01]\n",
      " [ 1.72191139e-01 -5.61690556e-01  6.01042690e-01 -2.08556550e-01\n",
      "  -1.37233756e-01 -5.75760190e-01  2.39245755e+00  1.73394270e+18\n",
      "   1.00000000e+00  1.00000000e+00  0.00000000e+00  2.00000000e+00\n",
      "   0.00000000e+00  2.50000000e-01]\n",
      " [ 1.72191139e-01 -2.45905412e-01  6.01042690e-01 -2.82860258e-01\n",
      "  -2.59410293e-01 -5.22461004e-01  2.39245755e+00  1.73394360e+18\n",
      "   1.00000000e+00  1.00000000e+00  0.00000000e+00  2.00000000e+00\n",
      "   0.00000000e+00  2.04545455e-01]]\n"
     ]
    }
   ],
   "source": [
    "print(data.drop(columns='available_bikes').columns.to_list())\n",
    "print(X_train_seq[1])"
   ]
  },
  {
   "cell_type": "code",
   "execution_count": 21,
   "metadata": {},
   "outputs": [
    {
     "name": "stdout",
     "output_type": "stream",
     "text": [
      "Model: \"sequential_2\"\n",
      "_________________________________________________________________\n",
      " Layer (type)                Output Shape              Param #   \n",
      "=================================================================\n",
      " lstm_1 (LSTM)               (None, 32)                6016      \n",
      "                                                                 \n",
      " batch_normalization_4 (Bat  (None, 32)                128       \n",
      " chNormalization)                                                \n",
      "                                                                 \n",
      " dropout_4 (Dropout)         (None, 32)                0         \n",
      "                                                                 \n",
      " flatten_2 (Flatten)         (None, 32)                0         \n",
      "                                                                 \n",
      " dense_4 (Dense)             (None, 32)                1056      \n",
      "                                                                 \n",
      " batch_normalization_5 (Bat  (None, 32)                128       \n",
      " chNormalization)                                                \n",
      "                                                                 \n",
      " dropout_5 (Dropout)         (None, 32)                0         \n",
      "                                                                 \n",
      " dense_5 (Dense)             (None, 1)                 33        \n",
      "                                                                 \n",
      "=================================================================\n",
      "Total params: 7361 (28.75 KB)\n",
      "Trainable params: 7233 (28.25 KB)\n",
      "Non-trainable params: 128 (512.00 Byte)\n",
      "_________________________________________________________________\n"
     ]
    }
   ],
   "source": [
    "model = models.Sequential([\n",
    "    layers.LSTM(32, \n",
    "                input_shape=(X_train_seq.shape[1], X_train_seq.shape[2]),\n",
    "                return_sequences=False,\n",
    "                kernel_regularizer=regularizers.l2(0.002)\n",
    "               ), \n",
    "    layers.BatchNormalization(),  \n",
    "    layers.Dropout(0.15),\n",
    " \n",
    "    layers.Flatten(),\n",
    "    \n",
    "    layers.Dense(32, activation='relu'),\n",
    "    layers.BatchNormalization(),\n",
    "    layers.Dropout(0.2),\n",
    "    \n",
    "    layers.Dense(1, activation='linear')\n",
    "])\n",
    "model.compile(optimizer='adam', loss='mse', metrics=['mae'])\n",
    "model.summary()"
   ]
  },
  {
   "cell_type": "code",
   "execution_count": 22,
   "metadata": {},
   "outputs": [
    {
     "name": "stdout",
     "output_type": "stream",
     "text": [
      "\n",
      "train data:\n",
      "X_train_seq shape: (948791, 4, 14)\n",
      "y_train_seq shape: (948791,)\n",
      "\n",
      "val data:\n",
      "X_val shape: (33992, 4, 14)\n",
      "y_val shape: (33992,)\n",
      "\n",
      "test data:\n",
      "X_test_seq shape: (50987, 4, 14)\n",
      "y_test_seq shape: (50987,)\n"
     ]
    }
   ],
   "source": [
    "val_size = int(0.6 * len(X_test_seq))\n",
    "X_test_seq, X_val = X_test_seq[:val_size], X_test_seq[val_size:]\n",
    "y_test_seq, y_val = y_test_seq[:val_size], y_test_seq[val_size:]\n",
    "print(\"\\ntrain data:\")\n",
    "print(\"X_train_seq shape:\", X_train_seq.shape)\n",
    "print(\"y_train_seq shape:\", y_train_seq.shape)\n",
    "\n",
    "print(\"\\nval data:\")\n",
    "print(\"X_val shape:\", X_val.shape)\n",
    "print(\"y_val shape:\", y_val.shape)\n",
    "print(\"\\ntest data:\")\n",
    "print(\"X_test_seq shape:\", X_test_seq.shape)\n",
    "print(\"y_test_seq shape:\", y_test_seq.shape)"
   ]
  },
  {
   "cell_type": "code",
   "execution_count": 23,
   "metadata": {},
   "outputs": [
    {
     "name": "stdout",
     "output_type": "stream",
     "text": [
      "Training the model...\n",
      "Epoch 1/20\n",
      "3707/3707 [==============================] - 114s 29ms/step - loss: 0.0132 - mae: 0.0879 - val_loss: 0.0164 - val_mae: 0.1022 - lr: 0.0010\n",
      "Epoch 2/20\n",
      "3707/3707 [==============================] - 128s 35ms/step - loss: 0.0121 - mae: 0.0879 - val_loss: 0.0169 - val_mae: 0.1008 - lr: 0.0010\n",
      "Epoch 3/20\n",
      "3707/3707 [==============================] - 140s 38ms/step - loss: 0.0121 - mae: 0.0879 - val_loss: 0.0167 - val_mae: 0.1012 - lr: 0.0010\n",
      "Epoch 4/20\n",
      "3707/3707 [==============================] - 136s 37ms/step - loss: 0.0122 - mae: 0.0883 - val_loss: 0.0166 - val_mae: 0.1016 - lr: 2.0000e-04\n"
     ]
    }
   ],
   "source": [
    "\n",
    "from tensorflow.keras import callbacks\n",
    "print(\"Training the model...\")\n",
    "callbacks = [\n",
    "    callbacks.EarlyStopping(\n",
    "        monitor='val_loss',\n",
    "        patience=3,\n",
    "        restore_best_weights=True,\n",
    "        min_delta=0.001\n",
    "    ),\n",
    "    callbacks.ReduceLROnPlateau(\n",
    "        monitor='val_loss',\n",
    "        factor=0.2,\n",
    "        patience=2,\n",
    "        min_lr=1e-6\n",
    "    )\n",
    "]\n",
    "\n",
    "history = model.fit(\n",
    "    X_train_seq,\n",
    "    y_train_seq,\n",
    "    validation_data=(X_val, y_val),\n",
    "    epochs=20,\n",
    "    batch_size=256,\n",
    "    shuffle=False,\n",
    "    callbacks=[callbacks] \n",
    ")\n"
   ]
  },
  {
   "cell_type": "code",
   "execution_count": 19,
   "metadata": {},
   "outputs": [
    {
     "data": {
      "image/png": "[encoded data removed]",
      "text/plain": [
       "<Figure size 640x480 with 1 Axes>"
      ]
     },
     "metadata": {},
     "output_type": "display_data"
    }
   ],
   "source": [
    "plt.plot(history.history['loss'], label='Training Loss')\n",
    "plt.plot(history.history['val_loss'], label='Validation Loss')\n",
    "plt.xlabel('Epochs')\n",
    "plt.ylabel('Loss')\n",
    "plt.legend()\n",
    "plt.title('Training vs Validation Loss')\n",
    "plt.show()"
   ]
  },
  {
   "cell_type": "code",
   "execution_count": 24,
   "metadata": {},
   "outputs": [
    {
     "name": "stdout",
     "output_type": "stream",
     "text": [
      "1594/1594 [==============================] - 11s 6ms/step\n",
      "Le taux de précision correctes de test avec tolerance=0: 23.73%\n",
      "Le taux de précision correctes de test avec tolerance=1: 38.09%\n",
      "Le taux de précision correctes de test avec tolerance=2: 48.69%\n",
      "MSE: 0.0271, MAE: 0.1071, R²: -0.7352\n"
     ]
    }
   ],
   "source": [
    "def taux_correct_predictions(y_test,y_pred,tolerance):\n",
    "    correct_predictions = np.abs(y_test - y_pred) <= tolerance\n",
    "    accuracy = np.mean(correct_predictions) * 100  \n",
    "    print(f\"Le taux de précision correctes de test avec tolerance={tolerance}: {accuracy:.2f}%\")\n",
    "predictions = model.predict(X_test_seq)\n",
    "predictions = np.round(predictions).astype(int)\n",
    "# Calcul des métriques pour l'ensemble de test\n",
    "mse = mean_squared_error(y_test_seq, predictions)\n",
    "mae = mean_absolute_error(y_test_seq, predictions)\n",
    "r2 = r2_score(y_test_seq, predictions)\n",
    "y_test = scaler_y.inverse_transform(y_test_seq.reshape(-1, 1)).flatten()\n",
    "predictions = scaler_y.inverse_transform(predictions.reshape(-1, 1)).flatten()\n",
    "\n",
    "taux_correct_predictions(y_test,predictions,0)\n",
    "taux_correct_predictions(y_test,predictions,1)\n",
    "taux_correct_predictions(y_test,predictions,2)\n",
    "\n",
    "print(f\"MSE: {mse:.4f}, MAE: {mae:.4f}, R²: {r2:.4f}\")"
   ]
  },
  {
   "cell_type": "code",
   "execution_count": null,
   "metadata": {},
   "outputs": [],
   "source": []
  },
  {
   "cell_type": "code",
   "execution_count": null,
   "metadata": {},
   "outputs": [],
   "source": []
  }
 ],
 "metadata": {
  "kernelspec": {
   "display_name": "envCnn",
   "language": "python",
   "name": "python3"
  },
  "language_info": {
   "codemirror_mode": {
    "name": "ipython",
    "version": 3
   },
   "file_extension": ".py",
   "mimetype": "text/x-python",
   "name": "python",
   "nbconvert_exporter": "python",
   "pygments_lexer": "ipython3",
   "version": "3.8.5"
  }
 },
 "nbformat": 4,
 "nbformat_minor": 2
}
